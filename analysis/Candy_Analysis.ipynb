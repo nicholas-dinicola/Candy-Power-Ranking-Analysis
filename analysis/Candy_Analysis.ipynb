{
 "cells": [
  {
   "cell_type": "code",
   "execution_count": 1,
   "id": "83696cf5-d597-4525-90ef-05d8ccedf860",
   "metadata": {},
   "outputs": [],
   "source": [
    "import pandas as pd\n",
    "import numpy as np \n",
    "import matplotlib.pyplot as plt \n",
    "import seaborn as sns \n",
    "from utils import color_df\n",
    "from mlxtend.frequent_patterns import apriori\n",
    "from scipy import stats\n",
    "import statsmodels.api as sm\n",
    "from sklearn.decomposition import PCA \n",
    "from sklearn.preprocessing import RobustScaler\n",
    "from sklearn.cluster import KMeans\n",
    "from sklearn.ensemble import RandomForestRegressor\n",
    "from sklearn.model_selection import GridSearchCV\n",
    "from utils import color_df, hopkins_test"
   ]
  },
  {
   "cell_type": "code",
   "execution_count": 2,
   "id": "2262fd7b-e81b-448e-8235-bd75c3d6e370",
   "metadata": {},
   "outputs": [
    {
     "data": {
      "text/html": [
       "<div>\n",
       "<style scoped>\n",
       "    .dataframe tbody tr th:only-of-type {\n",
       "        vertical-align: middle;\n",
       "    }\n",
       "\n",
       "    .dataframe tbody tr th {\n",
       "        vertical-align: top;\n",
       "    }\n",
       "\n",
       "    .dataframe thead th {\n",
       "        text-align: right;\n",
       "    }\n",
       "</style>\n",
       "<table border=\"1\" class=\"dataframe\">\n",
       "  <thead>\n",
       "    <tr style=\"text-align: right;\">\n",
       "      <th></th>\n",
       "      <th>competitorname</th>\n",
       "      <th>chocolate</th>\n",
       "      <th>fruity</th>\n",
       "      <th>caramel</th>\n",
       "      <th>peanutyalmondy</th>\n",
       "      <th>nougat</th>\n",
       "      <th>crispedricewafer</th>\n",
       "      <th>hard</th>\n",
       "      <th>bar</th>\n",
       "      <th>pluribus</th>\n",
       "      <th>sugarpercent</th>\n",
       "      <th>pricepercent</th>\n",
       "      <th>winpercent</th>\n",
       "    </tr>\n",
       "  </thead>\n",
       "  <tbody>\n",
       "    <tr>\n",
       "      <th>4</th>\n",
       "      <td>Air Heads</td>\n",
       "      <td>0</td>\n",
       "      <td>1</td>\n",
       "      <td>0</td>\n",
       "      <td>0</td>\n",
       "      <td>0</td>\n",
       "      <td>0</td>\n",
       "      <td>0</td>\n",
       "      <td>0</td>\n",
       "      <td>0</td>\n",
       "      <td>0.906</td>\n",
       "      <td>0.511</td>\n",
       "      <td>52.341465</td>\n",
       "    </tr>\n",
       "    <tr>\n",
       "      <th>17</th>\n",
       "      <td>Gobstopper</td>\n",
       "      <td>0</td>\n",
       "      <td>1</td>\n",
       "      <td>0</td>\n",
       "      <td>0</td>\n",
       "      <td>0</td>\n",
       "      <td>0</td>\n",
       "      <td>1</td>\n",
       "      <td>0</td>\n",
       "      <td>1</td>\n",
       "      <td>0.906</td>\n",
       "      <td>0.453</td>\n",
       "      <td>46.783348</td>\n",
       "    </tr>\n",
       "    <tr>\n",
       "      <th>10</th>\n",
       "      <td>Charleston Chew</td>\n",
       "      <td>1</td>\n",
       "      <td>0</td>\n",
       "      <td>0</td>\n",
       "      <td>0</td>\n",
       "      <td>1</td>\n",
       "      <td>0</td>\n",
       "      <td>0</td>\n",
       "      <td>1</td>\n",
       "      <td>0</td>\n",
       "      <td>0.604</td>\n",
       "      <td>0.511</td>\n",
       "      <td>38.975037</td>\n",
       "    </tr>\n",
       "    <tr>\n",
       "      <th>27</th>\n",
       "      <td>Junior Mints</td>\n",
       "      <td>1</td>\n",
       "      <td>0</td>\n",
       "      <td>0</td>\n",
       "      <td>0</td>\n",
       "      <td>0</td>\n",
       "      <td>0</td>\n",
       "      <td>0</td>\n",
       "      <td>0</td>\n",
       "      <td>1</td>\n",
       "      <td>0.197</td>\n",
       "      <td>0.511</td>\n",
       "      <td>57.219250</td>\n",
       "    </tr>\n",
       "    <tr>\n",
       "      <th>28</th>\n",
       "      <td>Kit Kat</td>\n",
       "      <td>1</td>\n",
       "      <td>0</td>\n",
       "      <td>0</td>\n",
       "      <td>0</td>\n",
       "      <td>0</td>\n",
       "      <td>1</td>\n",
       "      <td>0</td>\n",
       "      <td>1</td>\n",
       "      <td>0</td>\n",
       "      <td>0.313</td>\n",
       "      <td>0.511</td>\n",
       "      <td>76.768600</td>\n",
       "    </tr>\n",
       "    <tr>\n",
       "      <th>73</th>\n",
       "      <td>Swedish Fish</td>\n",
       "      <td>0</td>\n",
       "      <td>1</td>\n",
       "      <td>0</td>\n",
       "      <td>0</td>\n",
       "      <td>0</td>\n",
       "      <td>0</td>\n",
       "      <td>0</td>\n",
       "      <td>0</td>\n",
       "      <td>1</td>\n",
       "      <td>0.604</td>\n",
       "      <td>0.755</td>\n",
       "      <td>54.861111</td>\n",
       "    </tr>\n",
       "    <tr>\n",
       "      <th>55</th>\n",
       "      <td>Ring pop</td>\n",
       "      <td>0</td>\n",
       "      <td>1</td>\n",
       "      <td>0</td>\n",
       "      <td>0</td>\n",
       "      <td>0</td>\n",
       "      <td>0</td>\n",
       "      <td>1</td>\n",
       "      <td>0</td>\n",
       "      <td>0</td>\n",
       "      <td>0.732</td>\n",
       "      <td>0.965</td>\n",
       "      <td>35.290756</td>\n",
       "    </tr>\n",
       "    <tr>\n",
       "      <th>59</th>\n",
       "      <td>Sixlets</td>\n",
       "      <td>1</td>\n",
       "      <td>0</td>\n",
       "      <td>0</td>\n",
       "      <td>0</td>\n",
       "      <td>0</td>\n",
       "      <td>0</td>\n",
       "      <td>0</td>\n",
       "      <td>0</td>\n",
       "      <td>1</td>\n",
       "      <td>0.220</td>\n",
       "      <td>0.081</td>\n",
       "      <td>34.722000</td>\n",
       "    </tr>\n",
       "    <tr>\n",
       "      <th>78</th>\n",
       "      <td>Trolli Sour Bites</td>\n",
       "      <td>0</td>\n",
       "      <td>1</td>\n",
       "      <td>0</td>\n",
       "      <td>0</td>\n",
       "      <td>0</td>\n",
       "      <td>0</td>\n",
       "      <td>0</td>\n",
       "      <td>0</td>\n",
       "      <td>1</td>\n",
       "      <td>0.313</td>\n",
       "      <td>0.255</td>\n",
       "      <td>47.173229</td>\n",
       "    </tr>\n",
       "    <tr>\n",
       "      <th>44</th>\n",
       "      <td>Nik L Nip</td>\n",
       "      <td>0</td>\n",
       "      <td>1</td>\n",
       "      <td>0</td>\n",
       "      <td>0</td>\n",
       "      <td>0</td>\n",
       "      <td>0</td>\n",
       "      <td>0</td>\n",
       "      <td>0</td>\n",
       "      <td>1</td>\n",
       "      <td>0.197</td>\n",
       "      <td>0.976</td>\n",
       "      <td>22.445341</td>\n",
       "    </tr>\n",
       "  </tbody>\n",
       "</table>\n",
       "</div>"
      ],
      "text/plain": [
       "       competitorname  chocolate  fruity  caramel  peanutyalmondy  nougat  \\\n",
       "4           Air Heads          0       1        0               0       0   \n",
       "17         Gobstopper          0       1        0               0       0   \n",
       "10    Charleston Chew          1       0        0               0       1   \n",
       "27       Junior Mints          1       0        0               0       0   \n",
       "28            Kit Kat          1       0        0               0       0   \n",
       "73       Swedish Fish          0       1        0               0       0   \n",
       "55           Ring pop          0       1        0               0       0   \n",
       "59            Sixlets          1       0        0               0       0   \n",
       "78  Trolli Sour Bites          0       1        0               0       0   \n",
       "44          Nik L Nip          0       1        0               0       0   \n",
       "\n",
       "    crispedricewafer  hard  bar  pluribus  sugarpercent  pricepercent  \\\n",
       "4                  0     0    0         0         0.906         0.511   \n",
       "17                 0     1    0         1         0.906         0.453   \n",
       "10                 0     0    1         0         0.604         0.511   \n",
       "27                 0     0    0         1         0.197         0.511   \n",
       "28                 1     0    1         0         0.313         0.511   \n",
       "73                 0     0    0         1         0.604         0.755   \n",
       "55                 0     1    0         0         0.732         0.965   \n",
       "59                 0     0    0         1         0.220         0.081   \n",
       "78                 0     0    0         1         0.313         0.255   \n",
       "44                 0     0    0         1         0.197         0.976   \n",
       "\n",
       "    winpercent  \n",
       "4    52.341465  \n",
       "17   46.783348  \n",
       "10   38.975037  \n",
       "27   57.219250  \n",
       "28   76.768600  \n",
       "73   54.861111  \n",
       "55   35.290756  \n",
       "59   34.722000  \n",
       "78   47.173229  \n",
       "44   22.445341  "
      ]
     },
     "execution_count": 2,
     "metadata": {},
     "output_type": "execute_result"
    }
   ],
   "source": [
    "# Dowlaad the data from github repo \n",
    "df = pd.read_csv('https://raw.githubusercontent.com/fivethirtyeight/data/master/candy-power-ranking/candy-data.csv')\n",
    "df.sample(10)"
   ]
  },
  {
   "cell_type": "markdown",
   "id": "ecc34f7d-f691-4a8d-9e12-466116034f6a",
   "metadata": {
    "tags": []
   },
   "source": [
    "### The data contains the following fields:\n",
    "\n",
    "For binary variables, 1 means yes, 0 means no.\n",
    "\n",
    "\n",
    "Header | Description\n",
    "-------|------------\n",
    "chocolate | Does it contain chocolate?\n",
    "fruity | Is it fruit flavored?\n",
    "caramel | Is there caramel in the candy?\n",
    "peanutalmondy | Does it contain peanuts, peanut butter or almonds?\n",
    "nougat | Does it contain nougat?\n",
    "crispedricewafer | Does it contain crisped rice, wafers, or a cookie component?\n",
    "hard | Is it a hard candy?\n",
    "bar | Is it a candy bar?\n",
    "pluribus | Is it one of many candies in a bag or box?\n",
    "sugarpercent | The percentile of sugar it falls under within the data set.\n",
    "pricepercent | The unit price percentile compared to the rest of the set.\n",
    "winpercent | The overall win percentage according to 269,000 matchups.\n"
   ]
  },
  {
   "cell_type": "code",
   "execution_count": 3,
   "id": "453f8c52-acd4-4b6b-aca6-68cf5d1a9f0a",
   "metadata": {},
   "outputs": [
    {
     "name": "stdout",
     "output_type": "stream",
     "text": [
      "<class 'pandas.core.frame.DataFrame'>\n",
      "RangeIndex: 85 entries, 0 to 84\n",
      "Data columns (total 13 columns):\n",
      " #   Column            Non-Null Count  Dtype  \n",
      "---  ------            --------------  -----  \n",
      " 0   competitorname    85 non-null     object \n",
      " 1   chocolate         85 non-null     int64  \n",
      " 2   fruity            85 non-null     int64  \n",
      " 3   caramel           85 non-null     int64  \n",
      " 4   peanutyalmondy    85 non-null     int64  \n",
      " 5   nougat            85 non-null     int64  \n",
      " 6   crispedricewafer  85 non-null     int64  \n",
      " 7   hard              85 non-null     int64  \n",
      " 8   bar               85 non-null     int64  \n",
      " 9   pluribus          85 non-null     int64  \n",
      " 10  sugarpercent      85 non-null     float64\n",
      " 11  pricepercent      85 non-null     float64\n",
      " 12  winpercent        85 non-null     float64\n",
      "dtypes: float64(3), int64(9), object(1)\n",
      "memory usage: 8.8+ KB\n"
     ]
    }
   ],
   "source": [
    "# Getting a glimpse of the dataset as well as checking for missing values \n",
    "df.info()"
   ]
  },
  {
   "cell_type": "code",
   "execution_count": 4,
   "id": "fe194c37-d361-4642-a171-42e3e4816527",
   "metadata": {},
   "outputs": [
    {
     "data": {
      "text/html": [
       "<div>\n",
       "<style scoped>\n",
       "    .dataframe tbody tr th:only-of-type {\n",
       "        vertical-align: middle;\n",
       "    }\n",
       "\n",
       "    .dataframe tbody tr th {\n",
       "        vertical-align: top;\n",
       "    }\n",
       "\n",
       "    .dataframe thead th {\n",
       "        text-align: right;\n",
       "    }\n",
       "</style>\n",
       "<table border=\"1\" class=\"dataframe\">\n",
       "  <thead>\n",
       "    <tr style=\"text-align: right;\">\n",
       "      <th></th>\n",
       "      <th>count</th>\n",
       "      <th>mean</th>\n",
       "      <th>std</th>\n",
       "      <th>min</th>\n",
       "      <th>25%</th>\n",
       "      <th>50%</th>\n",
       "      <th>75%</th>\n",
       "      <th>max</th>\n",
       "    </tr>\n",
       "  </thead>\n",
       "  <tbody>\n",
       "    <tr>\n",
       "      <th>chocolate</th>\n",
       "      <td>85.0</td>\n",
       "      <td>0.435294</td>\n",
       "      <td>0.498738</td>\n",
       "      <td>0.000000</td>\n",
       "      <td>0.000000</td>\n",
       "      <td>0.000000</td>\n",
       "      <td>1.000000</td>\n",
       "      <td>1.00000</td>\n",
       "    </tr>\n",
       "    <tr>\n",
       "      <th>fruity</th>\n",
       "      <td>85.0</td>\n",
       "      <td>0.447059</td>\n",
       "      <td>0.500140</td>\n",
       "      <td>0.000000</td>\n",
       "      <td>0.000000</td>\n",
       "      <td>0.000000</td>\n",
       "      <td>1.000000</td>\n",
       "      <td>1.00000</td>\n",
       "    </tr>\n",
       "    <tr>\n",
       "      <th>caramel</th>\n",
       "      <td>85.0</td>\n",
       "      <td>0.164706</td>\n",
       "      <td>0.373116</td>\n",
       "      <td>0.000000</td>\n",
       "      <td>0.000000</td>\n",
       "      <td>0.000000</td>\n",
       "      <td>0.000000</td>\n",
       "      <td>1.00000</td>\n",
       "    </tr>\n",
       "    <tr>\n",
       "      <th>peanutyalmondy</th>\n",
       "      <td>85.0</td>\n",
       "      <td>0.164706</td>\n",
       "      <td>0.373116</td>\n",
       "      <td>0.000000</td>\n",
       "      <td>0.000000</td>\n",
       "      <td>0.000000</td>\n",
       "      <td>0.000000</td>\n",
       "      <td>1.00000</td>\n",
       "    </tr>\n",
       "    <tr>\n",
       "      <th>nougat</th>\n",
       "      <td>85.0</td>\n",
       "      <td>0.082353</td>\n",
       "      <td>0.276533</td>\n",
       "      <td>0.000000</td>\n",
       "      <td>0.000000</td>\n",
       "      <td>0.000000</td>\n",
       "      <td>0.000000</td>\n",
       "      <td>1.00000</td>\n",
       "    </tr>\n",
       "    <tr>\n",
       "      <th>crispedricewafer</th>\n",
       "      <td>85.0</td>\n",
       "      <td>0.082353</td>\n",
       "      <td>0.276533</td>\n",
       "      <td>0.000000</td>\n",
       "      <td>0.000000</td>\n",
       "      <td>0.000000</td>\n",
       "      <td>0.000000</td>\n",
       "      <td>1.00000</td>\n",
       "    </tr>\n",
       "    <tr>\n",
       "      <th>hard</th>\n",
       "      <td>85.0</td>\n",
       "      <td>0.176471</td>\n",
       "      <td>0.383482</td>\n",
       "      <td>0.000000</td>\n",
       "      <td>0.000000</td>\n",
       "      <td>0.000000</td>\n",
       "      <td>0.000000</td>\n",
       "      <td>1.00000</td>\n",
       "    </tr>\n",
       "    <tr>\n",
       "      <th>bar</th>\n",
       "      <td>85.0</td>\n",
       "      <td>0.247059</td>\n",
       "      <td>0.433861</td>\n",
       "      <td>0.000000</td>\n",
       "      <td>0.000000</td>\n",
       "      <td>0.000000</td>\n",
       "      <td>0.000000</td>\n",
       "      <td>1.00000</td>\n",
       "    </tr>\n",
       "    <tr>\n",
       "      <th>pluribus</th>\n",
       "      <td>85.0</td>\n",
       "      <td>0.517647</td>\n",
       "      <td>0.502654</td>\n",
       "      <td>0.000000</td>\n",
       "      <td>0.000000</td>\n",
       "      <td>1.000000</td>\n",
       "      <td>1.000000</td>\n",
       "      <td>1.00000</td>\n",
       "    </tr>\n",
       "    <tr>\n",
       "      <th>sugarpercent</th>\n",
       "      <td>85.0</td>\n",
       "      <td>0.478647</td>\n",
       "      <td>0.282778</td>\n",
       "      <td>0.011000</td>\n",
       "      <td>0.220000</td>\n",
       "      <td>0.465000</td>\n",
       "      <td>0.732000</td>\n",
       "      <td>0.98800</td>\n",
       "    </tr>\n",
       "    <tr>\n",
       "      <th>pricepercent</th>\n",
       "      <td>85.0</td>\n",
       "      <td>0.468882</td>\n",
       "      <td>0.285740</td>\n",
       "      <td>0.011000</td>\n",
       "      <td>0.255000</td>\n",
       "      <td>0.465000</td>\n",
       "      <td>0.651000</td>\n",
       "      <td>0.97600</td>\n",
       "    </tr>\n",
       "    <tr>\n",
       "      <th>winpercent</th>\n",
       "      <td>85.0</td>\n",
       "      <td>50.316764</td>\n",
       "      <td>14.714357</td>\n",
       "      <td>22.445341</td>\n",
       "      <td>39.141056</td>\n",
       "      <td>47.829754</td>\n",
       "      <td>59.863998</td>\n",
       "      <td>84.18029</td>\n",
       "    </tr>\n",
       "  </tbody>\n",
       "</table>\n",
       "</div>"
      ],
      "text/plain": [
       "                  count       mean        std        min        25%  \\\n",
       "chocolate          85.0   0.435294   0.498738   0.000000   0.000000   \n",
       "fruity             85.0   0.447059   0.500140   0.000000   0.000000   \n",
       "caramel            85.0   0.164706   0.373116   0.000000   0.000000   \n",
       "peanutyalmondy     85.0   0.164706   0.373116   0.000000   0.000000   \n",
       "nougat             85.0   0.082353   0.276533   0.000000   0.000000   \n",
       "crispedricewafer   85.0   0.082353   0.276533   0.000000   0.000000   \n",
       "hard               85.0   0.176471   0.383482   0.000000   0.000000   \n",
       "bar                85.0   0.247059   0.433861   0.000000   0.000000   \n",
       "pluribus           85.0   0.517647   0.502654   0.000000   0.000000   \n",
       "sugarpercent       85.0   0.478647   0.282778   0.011000   0.220000   \n",
       "pricepercent       85.0   0.468882   0.285740   0.011000   0.255000   \n",
       "winpercent         85.0  50.316764  14.714357  22.445341  39.141056   \n",
       "\n",
       "                        50%        75%       max  \n",
       "chocolate          0.000000   1.000000   1.00000  \n",
       "fruity             0.000000   1.000000   1.00000  \n",
       "caramel            0.000000   0.000000   1.00000  \n",
       "peanutyalmondy     0.000000   0.000000   1.00000  \n",
       "nougat             0.000000   0.000000   1.00000  \n",
       "crispedricewafer   0.000000   0.000000   1.00000  \n",
       "hard               0.000000   0.000000   1.00000  \n",
       "bar                0.000000   0.000000   1.00000  \n",
       "pluribus           1.000000   1.000000   1.00000  \n",
       "sugarpercent       0.465000   0.732000   0.98800  \n",
       "pricepercent       0.465000   0.651000   0.97600  \n",
       "winpercent        47.829754  59.863998  84.18029  "
      ]
     },
     "execution_count": 4,
     "metadata": {},
     "output_type": "execute_result"
    }
   ],
   "source": [
    "# Overview about the descriptive stats\n",
    "df.describe().T"
   ]
  },
  {
   "cell_type": "markdown",
   "id": "93a405d2-aa83-474e-8c26-dfbc68db1d57",
   "metadata": {},
   "source": [
    "## Feature Engineering"
   ]
  },
  {
   "cell_type": "code",
   "execution_count": 5,
   "id": "6559485c-e7b0-430a-9d22-d6a2914194ff",
   "metadata": {},
   "outputs": [],
   "source": [
    "# Clean the letter Õ\n",
    "df['competitorname'] = df['competitorname'].str.replace('Õ', \"\")"
   ]
  },
  {
   "cell_type": "code",
   "execution_count": 6,
   "id": "0874911e-5662-4507-b12a-e36ee171c60c",
   "metadata": {},
   "outputs": [
    {
     "data": {
      "text/html": [
       "<style type=\"text/css\">\n",
       "#T_633b5_row0_col0, #T_633b5_row0_col1, #T_633b5_row0_col2, #T_633b5_row0_col3, #T_633b5_row0_col4, #T_633b5_row0_col5, #T_633b5_row0_col6, #T_633b5_row0_col7, #T_633b5_row0_col8, #T_633b5_row1_col0, #T_633b5_row1_col1, #T_633b5_row1_col2, #T_633b5_row1_col3, #T_633b5_row1_col4, #T_633b5_row1_col5, #T_633b5_row1_col6, #T_633b5_row1_col7, #T_633b5_row1_col8, #T_633b5_row2_col0, #T_633b5_row2_col1, #T_633b5_row2_col2, #T_633b5_row2_col3, #T_633b5_row2_col4, #T_633b5_row2_col5, #T_633b5_row2_col6, #T_633b5_row2_col7, #T_633b5_row2_col8, #T_633b5_row3_col0, #T_633b5_row3_col1, #T_633b5_row3_col2, #T_633b5_row3_col3, #T_633b5_row3_col4, #T_633b5_row3_col5, #T_633b5_row3_col6, #T_633b5_row3_col7, #T_633b5_row3_col8, #T_633b5_row4_col0, #T_633b5_row4_col1, #T_633b5_row4_col2, #T_633b5_row4_col3, #T_633b5_row4_col4, #T_633b5_row4_col5, #T_633b5_row4_col6, #T_633b5_row4_col7, #T_633b5_row4_col8, #T_633b5_row5_col0, #T_633b5_row5_col1, #T_633b5_row5_col2, #T_633b5_row5_col3, #T_633b5_row5_col4, #T_633b5_row5_col5, #T_633b5_row5_col6, #T_633b5_row5_col7, #T_633b5_row5_col8, #T_633b5_row6_col0, #T_633b5_row6_col1, #T_633b5_row6_col2, #T_633b5_row6_col3, #T_633b5_row6_col4, #T_633b5_row6_col5, #T_633b5_row6_col6, #T_633b5_row6_col7, #T_633b5_row6_col8, #T_633b5_row7_col0, #T_633b5_row7_col1, #T_633b5_row7_col2, #T_633b5_row7_col3, #T_633b5_row7_col4, #T_633b5_row7_col5, #T_633b5_row7_col6, #T_633b5_row7_col7, #T_633b5_row7_col8, #T_633b5_row8_col0, #T_633b5_row8_col1, #T_633b5_row8_col2, #T_633b5_row8_col3, #T_633b5_row8_col4, #T_633b5_row8_col5, #T_633b5_row8_col6, #T_633b5_row8_col7, #T_633b5_row8_col8, #T_633b5_row9_col0, #T_633b5_row9_col1, #T_633b5_row9_col2, #T_633b5_row9_col3, #T_633b5_row9_col4, #T_633b5_row9_col5, #T_633b5_row9_col6, #T_633b5_row9_col7, #T_633b5_row9_col8 {\n",
       "  color: black;\n",
       "}\n",
       "#T_633b5_row0_col9, #T_633b5_row0_col10, #T_633b5_row0_col11, #T_633b5_row1_col9, #T_633b5_row1_col11, #T_633b5_row4_col9, #T_633b5_row5_col10, #T_633b5_row6_col9, #T_633b5_row6_col10, #T_633b5_row8_col9, #T_633b5_row9_col9 {\n",
       "  color: green;\n",
       "}\n",
       "#T_633b5_row1_col10, #T_633b5_row2_col11, #T_633b5_row3_col10, #T_633b5_row3_col11, #T_633b5_row4_col10, #T_633b5_row4_col11, #T_633b5_row5_col9, #T_633b5_row5_col11, #T_633b5_row6_col11, #T_633b5_row7_col9, #T_633b5_row7_col10, #T_633b5_row8_col10, #T_633b5_row8_col11, #T_633b5_row9_col10, #T_633b5_row9_col11 {\n",
       "  color: blue;\n",
       "}\n",
       "#T_633b5_row2_col9, #T_633b5_row2_col10, #T_633b5_row3_col9, #T_633b5_row7_col11 {\n",
       "  color: red;\n",
       "}\n",
       "</style>\n",
       "<table id=\"T_633b5\">\n",
       "  <thead>\n",
       "    <tr>\n",
       "      <th class=\"blank level0\" >&nbsp;</th>\n",
       "      <th id=\"T_633b5_level0_col0\" class=\"col_heading level0 col0\" >chocolate</th>\n",
       "      <th id=\"T_633b5_level0_col1\" class=\"col_heading level0 col1\" >fruity</th>\n",
       "      <th id=\"T_633b5_level0_col2\" class=\"col_heading level0 col2\" >caramel</th>\n",
       "      <th id=\"T_633b5_level0_col3\" class=\"col_heading level0 col3\" >peanutyalmondy</th>\n",
       "      <th id=\"T_633b5_level0_col4\" class=\"col_heading level0 col4\" >nougat</th>\n",
       "      <th id=\"T_633b5_level0_col5\" class=\"col_heading level0 col5\" >crispedricewafer</th>\n",
       "      <th id=\"T_633b5_level0_col6\" class=\"col_heading level0 col6\" >hard</th>\n",
       "      <th id=\"T_633b5_level0_col7\" class=\"col_heading level0 col7\" >bar</th>\n",
       "      <th id=\"T_633b5_level0_col8\" class=\"col_heading level0 col8\" >pluribus</th>\n",
       "      <th id=\"T_633b5_level0_col9\" class=\"col_heading level0 col9\" >sugarpercent</th>\n",
       "      <th id=\"T_633b5_level0_col10\" class=\"col_heading level0 col10\" >pricepercent</th>\n",
       "      <th id=\"T_633b5_level0_col11\" class=\"col_heading level0 col11\" >winpercent</th>\n",
       "    </tr>\n",
       "    <tr>\n",
       "      <th class=\"index_name level0\" >competitorname</th>\n",
       "      <th class=\"blank col0\" >&nbsp;</th>\n",
       "      <th class=\"blank col1\" >&nbsp;</th>\n",
       "      <th class=\"blank col2\" >&nbsp;</th>\n",
       "      <th class=\"blank col3\" >&nbsp;</th>\n",
       "      <th class=\"blank col4\" >&nbsp;</th>\n",
       "      <th class=\"blank col5\" >&nbsp;</th>\n",
       "      <th class=\"blank col6\" >&nbsp;</th>\n",
       "      <th class=\"blank col7\" >&nbsp;</th>\n",
       "      <th class=\"blank col8\" >&nbsp;</th>\n",
       "      <th class=\"blank col9\" >&nbsp;</th>\n",
       "      <th class=\"blank col10\" >&nbsp;</th>\n",
       "      <th class=\"blank col11\" >&nbsp;</th>\n",
       "    </tr>\n",
       "  </thead>\n",
       "  <tbody>\n",
       "    <tr>\n",
       "      <th id=\"T_633b5_level0_row0\" class=\"row_heading level0 row0\" >100 Grand</th>\n",
       "      <td id=\"T_633b5_row0_col0\" class=\"data row0 col0\" >1</td>\n",
       "      <td id=\"T_633b5_row0_col1\" class=\"data row0 col1\" >0</td>\n",
       "      <td id=\"T_633b5_row0_col2\" class=\"data row0 col2\" >1</td>\n",
       "      <td id=\"T_633b5_row0_col3\" class=\"data row0 col3\" >0</td>\n",
       "      <td id=\"T_633b5_row0_col4\" class=\"data row0 col4\" >0</td>\n",
       "      <td id=\"T_633b5_row0_col5\" class=\"data row0 col5\" >1</td>\n",
       "      <td id=\"T_633b5_row0_col6\" class=\"data row0 col6\" >0</td>\n",
       "      <td id=\"T_633b5_row0_col7\" class=\"data row0 col7\" >1</td>\n",
       "      <td id=\"T_633b5_row0_col8\" class=\"data row0 col8\" >0</td>\n",
       "      <td id=\"T_633b5_row0_col9\" class=\"data row0 col9\" >0.732000</td>\n",
       "      <td id=\"T_633b5_row0_col10\" class=\"data row0 col10\" >0.860000</td>\n",
       "      <td id=\"T_633b5_row0_col11\" class=\"data row0 col11\" >0.670000</td>\n",
       "    </tr>\n",
       "    <tr>\n",
       "      <th id=\"T_633b5_level0_row1\" class=\"row_heading level0 row1\" >3 Musketeers</th>\n",
       "      <td id=\"T_633b5_row1_col0\" class=\"data row1 col0\" >1</td>\n",
       "      <td id=\"T_633b5_row1_col1\" class=\"data row1 col1\" >0</td>\n",
       "      <td id=\"T_633b5_row1_col2\" class=\"data row1 col2\" >0</td>\n",
       "      <td id=\"T_633b5_row1_col3\" class=\"data row1 col3\" >0</td>\n",
       "      <td id=\"T_633b5_row1_col4\" class=\"data row1 col4\" >1</td>\n",
       "      <td id=\"T_633b5_row1_col5\" class=\"data row1 col5\" >0</td>\n",
       "      <td id=\"T_633b5_row1_col6\" class=\"data row1 col6\" >0</td>\n",
       "      <td id=\"T_633b5_row1_col7\" class=\"data row1 col7\" >1</td>\n",
       "      <td id=\"T_633b5_row1_col8\" class=\"data row1 col8\" >0</td>\n",
       "      <td id=\"T_633b5_row1_col9\" class=\"data row1 col9\" >0.604000</td>\n",
       "      <td id=\"T_633b5_row1_col10\" class=\"data row1 col10\" >0.511000</td>\n",
       "      <td id=\"T_633b5_row1_col11\" class=\"data row1 col11\" >0.676000</td>\n",
       "    </tr>\n",
       "    <tr>\n",
       "      <th id=\"T_633b5_level0_row2\" class=\"row_heading level0 row2\" >One dime</th>\n",
       "      <td id=\"T_633b5_row2_col0\" class=\"data row2 col0\" >0</td>\n",
       "      <td id=\"T_633b5_row2_col1\" class=\"data row2 col1\" >0</td>\n",
       "      <td id=\"T_633b5_row2_col2\" class=\"data row2 col2\" >0</td>\n",
       "      <td id=\"T_633b5_row2_col3\" class=\"data row2 col3\" >0</td>\n",
       "      <td id=\"T_633b5_row2_col4\" class=\"data row2 col4\" >0</td>\n",
       "      <td id=\"T_633b5_row2_col5\" class=\"data row2 col5\" >0</td>\n",
       "      <td id=\"T_633b5_row2_col6\" class=\"data row2 col6\" >0</td>\n",
       "      <td id=\"T_633b5_row2_col7\" class=\"data row2 col7\" >0</td>\n",
       "      <td id=\"T_633b5_row2_col8\" class=\"data row2 col8\" >0</td>\n",
       "      <td id=\"T_633b5_row2_col9\" class=\"data row2 col9\" >0.011000</td>\n",
       "      <td id=\"T_633b5_row2_col10\" class=\"data row2 col10\" >0.116000</td>\n",
       "      <td id=\"T_633b5_row2_col11\" class=\"data row2 col11\" >0.323000</td>\n",
       "    </tr>\n",
       "    <tr>\n",
       "      <th id=\"T_633b5_level0_row3\" class=\"row_heading level0 row3\" >One quarter</th>\n",
       "      <td id=\"T_633b5_row3_col0\" class=\"data row3 col0\" >0</td>\n",
       "      <td id=\"T_633b5_row3_col1\" class=\"data row3 col1\" >0</td>\n",
       "      <td id=\"T_633b5_row3_col2\" class=\"data row3 col2\" >0</td>\n",
       "      <td id=\"T_633b5_row3_col3\" class=\"data row3 col3\" >0</td>\n",
       "      <td id=\"T_633b5_row3_col4\" class=\"data row3 col4\" >0</td>\n",
       "      <td id=\"T_633b5_row3_col5\" class=\"data row3 col5\" >0</td>\n",
       "      <td id=\"T_633b5_row3_col6\" class=\"data row3 col6\" >0</td>\n",
       "      <td id=\"T_633b5_row3_col7\" class=\"data row3 col7\" >0</td>\n",
       "      <td id=\"T_633b5_row3_col8\" class=\"data row3 col8\" >0</td>\n",
       "      <td id=\"T_633b5_row3_col9\" class=\"data row3 col9\" >0.011000</td>\n",
       "      <td id=\"T_633b5_row3_col10\" class=\"data row3 col10\" >0.511000</td>\n",
       "      <td id=\"T_633b5_row3_col11\" class=\"data row3 col11\" >0.461000</td>\n",
       "    </tr>\n",
       "    <tr>\n",
       "      <th id=\"T_633b5_level0_row4\" class=\"row_heading level0 row4\" >Air Heads</th>\n",
       "      <td id=\"T_633b5_row4_col0\" class=\"data row4 col0\" >0</td>\n",
       "      <td id=\"T_633b5_row4_col1\" class=\"data row4 col1\" >1</td>\n",
       "      <td id=\"T_633b5_row4_col2\" class=\"data row4 col2\" >0</td>\n",
       "      <td id=\"T_633b5_row4_col3\" class=\"data row4 col3\" >0</td>\n",
       "      <td id=\"T_633b5_row4_col4\" class=\"data row4 col4\" >0</td>\n",
       "      <td id=\"T_633b5_row4_col5\" class=\"data row4 col5\" >0</td>\n",
       "      <td id=\"T_633b5_row4_col6\" class=\"data row4 col6\" >0</td>\n",
       "      <td id=\"T_633b5_row4_col7\" class=\"data row4 col7\" >0</td>\n",
       "      <td id=\"T_633b5_row4_col8\" class=\"data row4 col8\" >0</td>\n",
       "      <td id=\"T_633b5_row4_col9\" class=\"data row4 col9\" >0.906000</td>\n",
       "      <td id=\"T_633b5_row4_col10\" class=\"data row4 col10\" >0.511000</td>\n",
       "      <td id=\"T_633b5_row4_col11\" class=\"data row4 col11\" >0.523000</td>\n",
       "    </tr>\n",
       "    <tr>\n",
       "      <th id=\"T_633b5_level0_row5\" class=\"row_heading level0 row5\" >Almond Joy</th>\n",
       "      <td id=\"T_633b5_row5_col0\" class=\"data row5 col0\" >1</td>\n",
       "      <td id=\"T_633b5_row5_col1\" class=\"data row5 col1\" >0</td>\n",
       "      <td id=\"T_633b5_row5_col2\" class=\"data row5 col2\" >0</td>\n",
       "      <td id=\"T_633b5_row5_col3\" class=\"data row5 col3\" >1</td>\n",
       "      <td id=\"T_633b5_row5_col4\" class=\"data row5 col4\" >0</td>\n",
       "      <td id=\"T_633b5_row5_col5\" class=\"data row5 col5\" >0</td>\n",
       "      <td id=\"T_633b5_row5_col6\" class=\"data row5 col6\" >0</td>\n",
       "      <td id=\"T_633b5_row5_col7\" class=\"data row5 col7\" >1</td>\n",
       "      <td id=\"T_633b5_row5_col8\" class=\"data row5 col8\" >0</td>\n",
       "      <td id=\"T_633b5_row5_col9\" class=\"data row5 col9\" >0.465000</td>\n",
       "      <td id=\"T_633b5_row5_col10\" class=\"data row5 col10\" >0.767000</td>\n",
       "      <td id=\"T_633b5_row5_col11\" class=\"data row5 col11\" >0.503000</td>\n",
       "    </tr>\n",
       "    <tr>\n",
       "      <th id=\"T_633b5_level0_row6\" class=\"row_heading level0 row6\" >Baby Ruth</th>\n",
       "      <td id=\"T_633b5_row6_col0\" class=\"data row6 col0\" >1</td>\n",
       "      <td id=\"T_633b5_row6_col1\" class=\"data row6 col1\" >0</td>\n",
       "      <td id=\"T_633b5_row6_col2\" class=\"data row6 col2\" >1</td>\n",
       "      <td id=\"T_633b5_row6_col3\" class=\"data row6 col3\" >1</td>\n",
       "      <td id=\"T_633b5_row6_col4\" class=\"data row6 col4\" >1</td>\n",
       "      <td id=\"T_633b5_row6_col5\" class=\"data row6 col5\" >0</td>\n",
       "      <td id=\"T_633b5_row6_col6\" class=\"data row6 col6\" >0</td>\n",
       "      <td id=\"T_633b5_row6_col7\" class=\"data row6 col7\" >1</td>\n",
       "      <td id=\"T_633b5_row6_col8\" class=\"data row6 col8\" >0</td>\n",
       "      <td id=\"T_633b5_row6_col9\" class=\"data row6 col9\" >0.604000</td>\n",
       "      <td id=\"T_633b5_row6_col10\" class=\"data row6 col10\" >0.767000</td>\n",
       "      <td id=\"T_633b5_row6_col11\" class=\"data row6 col11\" >0.569000</td>\n",
       "    </tr>\n",
       "    <tr>\n",
       "      <th id=\"T_633b5_level0_row7\" class=\"row_heading level0 row7\" >Boston Baked Beans</th>\n",
       "      <td id=\"T_633b5_row7_col0\" class=\"data row7 col0\" >0</td>\n",
       "      <td id=\"T_633b5_row7_col1\" class=\"data row7 col1\" >0</td>\n",
       "      <td id=\"T_633b5_row7_col2\" class=\"data row7 col2\" >0</td>\n",
       "      <td id=\"T_633b5_row7_col3\" class=\"data row7 col3\" >1</td>\n",
       "      <td id=\"T_633b5_row7_col4\" class=\"data row7 col4\" >0</td>\n",
       "      <td id=\"T_633b5_row7_col5\" class=\"data row7 col5\" >0</td>\n",
       "      <td id=\"T_633b5_row7_col6\" class=\"data row7 col6\" >0</td>\n",
       "      <td id=\"T_633b5_row7_col7\" class=\"data row7 col7\" >0</td>\n",
       "      <td id=\"T_633b5_row7_col8\" class=\"data row7 col8\" >1</td>\n",
       "      <td id=\"T_633b5_row7_col9\" class=\"data row7 col9\" >0.313000</td>\n",
       "      <td id=\"T_633b5_row7_col10\" class=\"data row7 col10\" >0.511000</td>\n",
       "      <td id=\"T_633b5_row7_col11\" class=\"data row7 col11\" >0.234000</td>\n",
       "    </tr>\n",
       "    <tr>\n",
       "      <th id=\"T_633b5_level0_row8\" class=\"row_heading level0 row8\" >Candy Corn</th>\n",
       "      <td id=\"T_633b5_row8_col0\" class=\"data row8 col0\" >0</td>\n",
       "      <td id=\"T_633b5_row8_col1\" class=\"data row8 col1\" >0</td>\n",
       "      <td id=\"T_633b5_row8_col2\" class=\"data row8 col2\" >0</td>\n",
       "      <td id=\"T_633b5_row8_col3\" class=\"data row8 col3\" >0</td>\n",
       "      <td id=\"T_633b5_row8_col4\" class=\"data row8 col4\" >0</td>\n",
       "      <td id=\"T_633b5_row8_col5\" class=\"data row8 col5\" >0</td>\n",
       "      <td id=\"T_633b5_row8_col6\" class=\"data row8 col6\" >0</td>\n",
       "      <td id=\"T_633b5_row8_col7\" class=\"data row8 col7\" >0</td>\n",
       "      <td id=\"T_633b5_row8_col8\" class=\"data row8 col8\" >1</td>\n",
       "      <td id=\"T_633b5_row8_col9\" class=\"data row8 col9\" >0.906000</td>\n",
       "      <td id=\"T_633b5_row8_col10\" class=\"data row8 col10\" >0.325000</td>\n",
       "      <td id=\"T_633b5_row8_col11\" class=\"data row8 col11\" >0.380000</td>\n",
       "    </tr>\n",
       "    <tr>\n",
       "      <th id=\"T_633b5_level0_row9\" class=\"row_heading level0 row9\" >Caramel Apple Pops</th>\n",
       "      <td id=\"T_633b5_row9_col0\" class=\"data row9 col0\" >0</td>\n",
       "      <td id=\"T_633b5_row9_col1\" class=\"data row9 col1\" >1</td>\n",
       "      <td id=\"T_633b5_row9_col2\" class=\"data row9 col2\" >1</td>\n",
       "      <td id=\"T_633b5_row9_col3\" class=\"data row9 col3\" >0</td>\n",
       "      <td id=\"T_633b5_row9_col4\" class=\"data row9 col4\" >0</td>\n",
       "      <td id=\"T_633b5_row9_col5\" class=\"data row9 col5\" >0</td>\n",
       "      <td id=\"T_633b5_row9_col6\" class=\"data row9 col6\" >0</td>\n",
       "      <td id=\"T_633b5_row9_col7\" class=\"data row9 col7\" >0</td>\n",
       "      <td id=\"T_633b5_row9_col8\" class=\"data row9 col8\" >0</td>\n",
       "      <td id=\"T_633b5_row9_col9\" class=\"data row9 col9\" >0.604000</td>\n",
       "      <td id=\"T_633b5_row9_col10\" class=\"data row9 col10\" >0.325000</td>\n",
       "      <td id=\"T_633b5_row9_col11\" class=\"data row9 col11\" >0.345000</td>\n",
       "    </tr>\n",
       "  </tbody>\n",
       "</table>\n"
      ],
      "text/plain": [
       "<pandas.io.formats.style.Styler at 0x7f5e3f80ef40>"
      ]
     },
     "execution_count": 6,
     "metadata": {},
     "output_type": "execute_result"
    }
   ],
   "source": [
    "# Div Winpercent by 100 to have it in the same scale as the other two percentage variables \n",
    "df['winpercent'] = round(df['winpercent']/100, 3)\n",
    "table = df.head(10) \n",
    "table.set_index(\"competitorname\").style.applymap(color_df)"
   ]
  },
  {
   "cell_type": "code",
   "execution_count": 7,
   "id": "93b82a89-92a3-4d51-bb09-5a8ea0887b91",
   "metadata": {},
   "outputs": [],
   "source": [
    "# Combine the two variables\n",
    "# Higher value -> the candy is sweet as well as cheap.\n",
    "### df['sugarbyprice'] = round(df['sugarpercent'].div(df['pricepercent']), 3) \n",
    "\n",
    "# Higher value -> the candy is more liked as well as cheap.\n",
    "### df['winbyprice'] = round(df['winpercent'].div(df['pricepercent']), 3) \n",
    "\n",
    "# Check the transformations \n",
    "### df.sample(5)"
   ]
  },
  {
   "cell_type": "markdown",
   "id": "666f4473-7444-4b19-a173-d1b3a0f7f6f8",
   "metadata": {
    "tags": []
   },
   "source": [
    "# EDA"
   ]
  },
  {
   "cell_type": "markdown",
   "id": "a5ecf00b-7317-44ff-b91e-537392fc532d",
   "metadata": {},
   "source": [
    "All the most fav candies contain choccolate, none of them are either fruity or hard. Perhaps, penaut or almond helps in be liked by people. Also, interesting to see there are not one of many candies in the box. "
   ]
  },
  {
   "cell_type": "code",
   "execution_count": 66,
   "id": "808e273a-d197-4019-86d3-899f9a73b442",
   "metadata": {},
   "outputs": [
    {
     "data": {
      "text/html": [
       "<style type=\"text/css\">\n",
       "#T_c0cf4_row0_col0, #T_c0cf4_row0_col1, #T_c0cf4_row0_col2, #T_c0cf4_row0_col3, #T_c0cf4_row0_col4, #T_c0cf4_row0_col5, #T_c0cf4_row0_col6, #T_c0cf4_row0_col7, #T_c0cf4_row0_col8, #T_c0cf4_row1_col0, #T_c0cf4_row1_col1, #T_c0cf4_row1_col2, #T_c0cf4_row1_col3, #T_c0cf4_row1_col4, #T_c0cf4_row1_col5, #T_c0cf4_row1_col6, #T_c0cf4_row1_col7, #T_c0cf4_row1_col8, #T_c0cf4_row2_col0, #T_c0cf4_row2_col1, #T_c0cf4_row2_col2, #T_c0cf4_row2_col3, #T_c0cf4_row2_col4, #T_c0cf4_row2_col5, #T_c0cf4_row2_col6, #T_c0cf4_row2_col7, #T_c0cf4_row2_col8, #T_c0cf4_row3_col0, #T_c0cf4_row3_col1, #T_c0cf4_row3_col2, #T_c0cf4_row3_col3, #T_c0cf4_row3_col4, #T_c0cf4_row3_col5, #T_c0cf4_row3_col6, #T_c0cf4_row3_col7, #T_c0cf4_row3_col8, #T_c0cf4_row4_col0, #T_c0cf4_row4_col1, #T_c0cf4_row4_col2, #T_c0cf4_row4_col3, #T_c0cf4_row4_col4, #T_c0cf4_row4_col5, #T_c0cf4_row4_col6, #T_c0cf4_row4_col7, #T_c0cf4_row4_col8, #T_c0cf4_row5_col0, #T_c0cf4_row5_col1, #T_c0cf4_row5_col2, #T_c0cf4_row5_col3, #T_c0cf4_row5_col4, #T_c0cf4_row5_col5, #T_c0cf4_row5_col6, #T_c0cf4_row5_col7, #T_c0cf4_row5_col8, #T_c0cf4_row6_col0, #T_c0cf4_row6_col1, #T_c0cf4_row6_col2, #T_c0cf4_row6_col3, #T_c0cf4_row6_col4, #T_c0cf4_row6_col5, #T_c0cf4_row6_col6, #T_c0cf4_row6_col7, #T_c0cf4_row6_col8, #T_c0cf4_row7_col0, #T_c0cf4_row7_col1, #T_c0cf4_row7_col2, #T_c0cf4_row7_col3, #T_c0cf4_row7_col4, #T_c0cf4_row7_col5, #T_c0cf4_row7_col6, #T_c0cf4_row7_col7, #T_c0cf4_row7_col8, #T_c0cf4_row8_col0, #T_c0cf4_row8_col1, #T_c0cf4_row8_col2, #T_c0cf4_row8_col3, #T_c0cf4_row8_col4, #T_c0cf4_row8_col5, #T_c0cf4_row8_col6, #T_c0cf4_row8_col7, #T_c0cf4_row8_col8, #T_c0cf4_row9_col0, #T_c0cf4_row9_col1, #T_c0cf4_row9_col2, #T_c0cf4_row9_col3, #T_c0cf4_row9_col4, #T_c0cf4_row9_col5, #T_c0cf4_row9_col6, #T_c0cf4_row9_col7, #T_c0cf4_row9_col8 {\n",
       "  color: black;\n",
       "}\n",
       "#T_c0cf4_row0_col9, #T_c0cf4_row0_col10, #T_c0cf4_row0_col11, #T_c0cf4_row1_col11, #T_c0cf4_row2_col10, #T_c0cf4_row2_col11, #T_c0cf4_row3_col11, #T_c0cf4_row4_col10, #T_c0cf4_row4_col11, #T_c0cf4_row5_col10, #T_c0cf4_row5_col11, #T_c0cf4_row6_col9, #T_c0cf4_row6_col10, #T_c0cf4_row6_col11, #T_c0cf4_row7_col9, #T_c0cf4_row7_col10, #T_c0cf4_row7_col11, #T_c0cf4_row8_col9, #T_c0cf4_row8_col10, #T_c0cf4_row8_col11, #T_c0cf4_row9_col9, #T_c0cf4_row9_col10, #T_c0cf4_row9_col11 {\n",
       "  color: green;\n",
       "}\n",
       "#T_c0cf4_row1_col9, #T_c0cf4_row1_col10 {\n",
       "  color: red;\n",
       "}\n",
       "#T_c0cf4_row2_col9, #T_c0cf4_row3_col9, #T_c0cf4_row3_col10, #T_c0cf4_row4_col9, #T_c0cf4_row5_col9 {\n",
       "  color: blue;\n",
       "}\n",
       "</style>\n",
       "<table id=\"T_c0cf4\">\n",
       "  <thead>\n",
       "    <tr>\n",
       "      <th class=\"blank level0\" >&nbsp;</th>\n",
       "      <th id=\"T_c0cf4_level0_col0\" class=\"col_heading level0 col0\" >chocolate</th>\n",
       "      <th id=\"T_c0cf4_level0_col1\" class=\"col_heading level0 col1\" >fruity</th>\n",
       "      <th id=\"T_c0cf4_level0_col2\" class=\"col_heading level0 col2\" >caramel</th>\n",
       "      <th id=\"T_c0cf4_level0_col3\" class=\"col_heading level0 col3\" >peanutyalmondy</th>\n",
       "      <th id=\"T_c0cf4_level0_col4\" class=\"col_heading level0 col4\" >nougat</th>\n",
       "      <th id=\"T_c0cf4_level0_col5\" class=\"col_heading level0 col5\" >crispedricewafer</th>\n",
       "      <th id=\"T_c0cf4_level0_col6\" class=\"col_heading level0 col6\" >hard</th>\n",
       "      <th id=\"T_c0cf4_level0_col7\" class=\"col_heading level0 col7\" >bar</th>\n",
       "      <th id=\"T_c0cf4_level0_col8\" class=\"col_heading level0 col8\" >pluribus</th>\n",
       "      <th id=\"T_c0cf4_level0_col9\" class=\"col_heading level0 col9\" >sugarpercent</th>\n",
       "      <th id=\"T_c0cf4_level0_col10\" class=\"col_heading level0 col10\" >pricepercent</th>\n",
       "      <th id=\"T_c0cf4_level0_col11\" class=\"col_heading level0 col11\" >winpercent</th>\n",
       "    </tr>\n",
       "    <tr>\n",
       "      <th class=\"index_name level0\" >competitorname</th>\n",
       "      <th class=\"blank col0\" >&nbsp;</th>\n",
       "      <th class=\"blank col1\" >&nbsp;</th>\n",
       "      <th class=\"blank col2\" >&nbsp;</th>\n",
       "      <th class=\"blank col3\" >&nbsp;</th>\n",
       "      <th class=\"blank col4\" >&nbsp;</th>\n",
       "      <th class=\"blank col5\" >&nbsp;</th>\n",
       "      <th class=\"blank col6\" >&nbsp;</th>\n",
       "      <th class=\"blank col7\" >&nbsp;</th>\n",
       "      <th class=\"blank col8\" >&nbsp;</th>\n",
       "      <th class=\"blank col9\" >&nbsp;</th>\n",
       "      <th class=\"blank col10\" >&nbsp;</th>\n",
       "      <th class=\"blank col11\" >&nbsp;</th>\n",
       "    </tr>\n",
       "  </thead>\n",
       "  <tbody>\n",
       "    <tr>\n",
       "      <th id=\"T_c0cf4_level0_row0\" class=\"row_heading level0 row0\" >Reeses Peanut Butter cup</th>\n",
       "      <td id=\"T_c0cf4_row0_col0\" class=\"data row0 col0\" >1</td>\n",
       "      <td id=\"T_c0cf4_row0_col1\" class=\"data row0 col1\" >0</td>\n",
       "      <td id=\"T_c0cf4_row0_col2\" class=\"data row0 col2\" >0</td>\n",
       "      <td id=\"T_c0cf4_row0_col3\" class=\"data row0 col3\" >1</td>\n",
       "      <td id=\"T_c0cf4_row0_col4\" class=\"data row0 col4\" >0</td>\n",
       "      <td id=\"T_c0cf4_row0_col5\" class=\"data row0 col5\" >0</td>\n",
       "      <td id=\"T_c0cf4_row0_col6\" class=\"data row0 col6\" >0</td>\n",
       "      <td id=\"T_c0cf4_row0_col7\" class=\"data row0 col7\" >0</td>\n",
       "      <td id=\"T_c0cf4_row0_col8\" class=\"data row0 col8\" >0</td>\n",
       "      <td id=\"T_c0cf4_row0_col9\" class=\"data row0 col9\" >0.720000</td>\n",
       "      <td id=\"T_c0cf4_row0_col10\" class=\"data row0 col10\" >0.651000</td>\n",
       "      <td id=\"T_c0cf4_row0_col11\" class=\"data row0 col11\" >0.842000</td>\n",
       "    </tr>\n",
       "    <tr>\n",
       "      <th id=\"T_c0cf4_level0_row1\" class=\"row_heading level0 row1\" >Reeses Miniatures</th>\n",
       "      <td id=\"T_c0cf4_row1_col0\" class=\"data row1 col0\" >1</td>\n",
       "      <td id=\"T_c0cf4_row1_col1\" class=\"data row1 col1\" >0</td>\n",
       "      <td id=\"T_c0cf4_row1_col2\" class=\"data row1 col2\" >0</td>\n",
       "      <td id=\"T_c0cf4_row1_col3\" class=\"data row1 col3\" >1</td>\n",
       "      <td id=\"T_c0cf4_row1_col4\" class=\"data row1 col4\" >0</td>\n",
       "      <td id=\"T_c0cf4_row1_col5\" class=\"data row1 col5\" >0</td>\n",
       "      <td id=\"T_c0cf4_row1_col6\" class=\"data row1 col6\" >0</td>\n",
       "      <td id=\"T_c0cf4_row1_col7\" class=\"data row1 col7\" >0</td>\n",
       "      <td id=\"T_c0cf4_row1_col8\" class=\"data row1 col8\" >0</td>\n",
       "      <td id=\"T_c0cf4_row1_col9\" class=\"data row1 col9\" >0.034000</td>\n",
       "      <td id=\"T_c0cf4_row1_col10\" class=\"data row1 col10\" >0.279000</td>\n",
       "      <td id=\"T_c0cf4_row1_col11\" class=\"data row1 col11\" >0.819000</td>\n",
       "    </tr>\n",
       "    <tr>\n",
       "      <th id=\"T_c0cf4_level0_row2\" class=\"row_heading level0 row2\" >Twix</th>\n",
       "      <td id=\"T_c0cf4_row2_col0\" class=\"data row2 col0\" >1</td>\n",
       "      <td id=\"T_c0cf4_row2_col1\" class=\"data row2 col1\" >0</td>\n",
       "      <td id=\"T_c0cf4_row2_col2\" class=\"data row2 col2\" >1</td>\n",
       "      <td id=\"T_c0cf4_row2_col3\" class=\"data row2 col3\" >0</td>\n",
       "      <td id=\"T_c0cf4_row2_col4\" class=\"data row2 col4\" >0</td>\n",
       "      <td id=\"T_c0cf4_row2_col5\" class=\"data row2 col5\" >1</td>\n",
       "      <td id=\"T_c0cf4_row2_col6\" class=\"data row2 col6\" >0</td>\n",
       "      <td id=\"T_c0cf4_row2_col7\" class=\"data row2 col7\" >1</td>\n",
       "      <td id=\"T_c0cf4_row2_col8\" class=\"data row2 col8\" >0</td>\n",
       "      <td id=\"T_c0cf4_row2_col9\" class=\"data row2 col9\" >0.546000</td>\n",
       "      <td id=\"T_c0cf4_row2_col10\" class=\"data row2 col10\" >0.906000</td>\n",
       "      <td id=\"T_c0cf4_row2_col11\" class=\"data row2 col11\" >0.816000</td>\n",
       "    </tr>\n",
       "    <tr>\n",
       "      <th id=\"T_c0cf4_level0_row3\" class=\"row_heading level0 row3\" >Kit Kat</th>\n",
       "      <td id=\"T_c0cf4_row3_col0\" class=\"data row3 col0\" >1</td>\n",
       "      <td id=\"T_c0cf4_row3_col1\" class=\"data row3 col1\" >0</td>\n",
       "      <td id=\"T_c0cf4_row3_col2\" class=\"data row3 col2\" >0</td>\n",
       "      <td id=\"T_c0cf4_row3_col3\" class=\"data row3 col3\" >0</td>\n",
       "      <td id=\"T_c0cf4_row3_col4\" class=\"data row3 col4\" >0</td>\n",
       "      <td id=\"T_c0cf4_row3_col5\" class=\"data row3 col5\" >1</td>\n",
       "      <td id=\"T_c0cf4_row3_col6\" class=\"data row3 col6\" >0</td>\n",
       "      <td id=\"T_c0cf4_row3_col7\" class=\"data row3 col7\" >1</td>\n",
       "      <td id=\"T_c0cf4_row3_col8\" class=\"data row3 col8\" >0</td>\n",
       "      <td id=\"T_c0cf4_row3_col9\" class=\"data row3 col9\" >0.313000</td>\n",
       "      <td id=\"T_c0cf4_row3_col10\" class=\"data row3 col10\" >0.511000</td>\n",
       "      <td id=\"T_c0cf4_row3_col11\" class=\"data row3 col11\" >0.768000</td>\n",
       "    </tr>\n",
       "    <tr>\n",
       "      <th id=\"T_c0cf4_level0_row4\" class=\"row_heading level0 row4\" >Snickers</th>\n",
       "      <td id=\"T_c0cf4_row4_col0\" class=\"data row4 col0\" >1</td>\n",
       "      <td id=\"T_c0cf4_row4_col1\" class=\"data row4 col1\" >0</td>\n",
       "      <td id=\"T_c0cf4_row4_col2\" class=\"data row4 col2\" >1</td>\n",
       "      <td id=\"T_c0cf4_row4_col3\" class=\"data row4 col3\" >1</td>\n",
       "      <td id=\"T_c0cf4_row4_col4\" class=\"data row4 col4\" >1</td>\n",
       "      <td id=\"T_c0cf4_row4_col5\" class=\"data row4 col5\" >0</td>\n",
       "      <td id=\"T_c0cf4_row4_col6\" class=\"data row4 col6\" >0</td>\n",
       "      <td id=\"T_c0cf4_row4_col7\" class=\"data row4 col7\" >1</td>\n",
       "      <td id=\"T_c0cf4_row4_col8\" class=\"data row4 col8\" >0</td>\n",
       "      <td id=\"T_c0cf4_row4_col9\" class=\"data row4 col9\" >0.546000</td>\n",
       "      <td id=\"T_c0cf4_row4_col10\" class=\"data row4 col10\" >0.651000</td>\n",
       "      <td id=\"T_c0cf4_row4_col11\" class=\"data row4 col11\" >0.767000</td>\n",
       "    </tr>\n",
       "    <tr>\n",
       "      <th id=\"T_c0cf4_level0_row5\" class=\"row_heading level0 row5\" >Reeses pieces</th>\n",
       "      <td id=\"T_c0cf4_row5_col0\" class=\"data row5 col0\" >1</td>\n",
       "      <td id=\"T_c0cf4_row5_col1\" class=\"data row5 col1\" >0</td>\n",
       "      <td id=\"T_c0cf4_row5_col2\" class=\"data row5 col2\" >0</td>\n",
       "      <td id=\"T_c0cf4_row5_col3\" class=\"data row5 col3\" >1</td>\n",
       "      <td id=\"T_c0cf4_row5_col4\" class=\"data row5 col4\" >0</td>\n",
       "      <td id=\"T_c0cf4_row5_col5\" class=\"data row5 col5\" >0</td>\n",
       "      <td id=\"T_c0cf4_row5_col6\" class=\"data row5 col6\" >0</td>\n",
       "      <td id=\"T_c0cf4_row5_col7\" class=\"data row5 col7\" >0</td>\n",
       "      <td id=\"T_c0cf4_row5_col8\" class=\"data row5 col8\" >1</td>\n",
       "      <td id=\"T_c0cf4_row5_col9\" class=\"data row5 col9\" >0.406000</td>\n",
       "      <td id=\"T_c0cf4_row5_col10\" class=\"data row5 col10\" >0.651000</td>\n",
       "      <td id=\"T_c0cf4_row5_col11\" class=\"data row5 col11\" >0.734000</td>\n",
       "    </tr>\n",
       "    <tr>\n",
       "      <th id=\"T_c0cf4_level0_row6\" class=\"row_heading level0 row6\" >Milky Way</th>\n",
       "      <td id=\"T_c0cf4_row6_col0\" class=\"data row6 col0\" >1</td>\n",
       "      <td id=\"T_c0cf4_row6_col1\" class=\"data row6 col1\" >0</td>\n",
       "      <td id=\"T_c0cf4_row6_col2\" class=\"data row6 col2\" >1</td>\n",
       "      <td id=\"T_c0cf4_row6_col3\" class=\"data row6 col3\" >0</td>\n",
       "      <td id=\"T_c0cf4_row6_col4\" class=\"data row6 col4\" >1</td>\n",
       "      <td id=\"T_c0cf4_row6_col5\" class=\"data row6 col5\" >0</td>\n",
       "      <td id=\"T_c0cf4_row6_col6\" class=\"data row6 col6\" >0</td>\n",
       "      <td id=\"T_c0cf4_row6_col7\" class=\"data row6 col7\" >1</td>\n",
       "      <td id=\"T_c0cf4_row6_col8\" class=\"data row6 col8\" >0</td>\n",
       "      <td id=\"T_c0cf4_row6_col9\" class=\"data row6 col9\" >0.604000</td>\n",
       "      <td id=\"T_c0cf4_row6_col10\" class=\"data row6 col10\" >0.651000</td>\n",
       "      <td id=\"T_c0cf4_row6_col11\" class=\"data row6 col11\" >0.731000</td>\n",
       "    </tr>\n",
       "    <tr>\n",
       "      <th id=\"T_c0cf4_level0_row7\" class=\"row_heading level0 row7\" >Reeses stuffed with pieces</th>\n",
       "      <td id=\"T_c0cf4_row7_col0\" class=\"data row7 col0\" >1</td>\n",
       "      <td id=\"T_c0cf4_row7_col1\" class=\"data row7 col1\" >0</td>\n",
       "      <td id=\"T_c0cf4_row7_col2\" class=\"data row7 col2\" >0</td>\n",
       "      <td id=\"T_c0cf4_row7_col3\" class=\"data row7 col3\" >1</td>\n",
       "      <td id=\"T_c0cf4_row7_col4\" class=\"data row7 col4\" >0</td>\n",
       "      <td id=\"T_c0cf4_row7_col5\" class=\"data row7 col5\" >0</td>\n",
       "      <td id=\"T_c0cf4_row7_col6\" class=\"data row7 col6\" >0</td>\n",
       "      <td id=\"T_c0cf4_row7_col7\" class=\"data row7 col7\" >0</td>\n",
       "      <td id=\"T_c0cf4_row7_col8\" class=\"data row7 col8\" >0</td>\n",
       "      <td id=\"T_c0cf4_row7_col9\" class=\"data row7 col9\" >0.988000</td>\n",
       "      <td id=\"T_c0cf4_row7_col10\" class=\"data row7 col10\" >0.651000</td>\n",
       "      <td id=\"T_c0cf4_row7_col11\" class=\"data row7 col11\" >0.729000</td>\n",
       "    </tr>\n",
       "    <tr>\n",
       "      <th id=\"T_c0cf4_level0_row8\" class=\"row_heading level0 row8\" >Peanut butter M&Ms</th>\n",
       "      <td id=\"T_c0cf4_row8_col0\" class=\"data row8 col0\" >1</td>\n",
       "      <td id=\"T_c0cf4_row8_col1\" class=\"data row8 col1\" >0</td>\n",
       "      <td id=\"T_c0cf4_row8_col2\" class=\"data row8 col2\" >0</td>\n",
       "      <td id=\"T_c0cf4_row8_col3\" class=\"data row8 col3\" >1</td>\n",
       "      <td id=\"T_c0cf4_row8_col4\" class=\"data row8 col4\" >0</td>\n",
       "      <td id=\"T_c0cf4_row8_col5\" class=\"data row8 col5\" >0</td>\n",
       "      <td id=\"T_c0cf4_row8_col6\" class=\"data row8 col6\" >0</td>\n",
       "      <td id=\"T_c0cf4_row8_col7\" class=\"data row8 col7\" >0</td>\n",
       "      <td id=\"T_c0cf4_row8_col8\" class=\"data row8 col8\" >1</td>\n",
       "      <td id=\"T_c0cf4_row8_col9\" class=\"data row8 col9\" >0.825000</td>\n",
       "      <td id=\"T_c0cf4_row8_col10\" class=\"data row8 col10\" >0.651000</td>\n",
       "      <td id=\"T_c0cf4_row8_col11\" class=\"data row8 col11\" >0.715000</td>\n",
       "    </tr>\n",
       "    <tr>\n",
       "      <th id=\"T_c0cf4_level0_row9\" class=\"row_heading level0 row9\" >Nestle Butterfinger</th>\n",
       "      <td id=\"T_c0cf4_row9_col0\" class=\"data row9 col0\" >1</td>\n",
       "      <td id=\"T_c0cf4_row9_col1\" class=\"data row9 col1\" >0</td>\n",
       "      <td id=\"T_c0cf4_row9_col2\" class=\"data row9 col2\" >0</td>\n",
       "      <td id=\"T_c0cf4_row9_col3\" class=\"data row9 col3\" >1</td>\n",
       "      <td id=\"T_c0cf4_row9_col4\" class=\"data row9 col4\" >0</td>\n",
       "      <td id=\"T_c0cf4_row9_col5\" class=\"data row9 col5\" >0</td>\n",
       "      <td id=\"T_c0cf4_row9_col6\" class=\"data row9 col6\" >0</td>\n",
       "      <td id=\"T_c0cf4_row9_col7\" class=\"data row9 col7\" >1</td>\n",
       "      <td id=\"T_c0cf4_row9_col8\" class=\"data row9 col8\" >0</td>\n",
       "      <td id=\"T_c0cf4_row9_col9\" class=\"data row9 col9\" >0.604000</td>\n",
       "      <td id=\"T_c0cf4_row9_col10\" class=\"data row9 col10\" >0.767000</td>\n",
       "      <td id=\"T_c0cf4_row9_col11\" class=\"data row9 col11\" >0.707000</td>\n",
       "    </tr>\n",
       "  </tbody>\n",
       "</table>\n"
      ],
      "text/plain": [
       "<pandas.io.formats.style.Styler at 0x7f5e3d4c2880>"
      ]
     },
     "execution_count": 66,
     "metadata": {},
     "output_type": "execute_result"
    }
   ],
   "source": [
    "# Most fav candies \n",
    "table = df.sort_values('winpercent', ascending=False).head(10)\n",
    "table.set_index(\"competitorname\").style.applymap(color_df)"
   ]
  },
  {
   "cell_type": "code",
   "execution_count": 9,
   "id": "6992200e-47c5-4e0e-b7ed-c23ae4c7d137",
   "metadata": {},
   "outputs": [
    {
     "data": {
      "text/html": [
       "<div>\n",
       "<style scoped>\n",
       "    .dataframe tbody tr th:only-of-type {\n",
       "        vertical-align: middle;\n",
       "    }\n",
       "\n",
       "    .dataframe tbody tr th {\n",
       "        vertical-align: top;\n",
       "    }\n",
       "\n",
       "    .dataframe thead th {\n",
       "        text-align: right;\n",
       "    }\n",
       "</style>\n",
       "<table border=\"1\" class=\"dataframe\">\n",
       "  <thead>\n",
       "    <tr style=\"text-align: right;\">\n",
       "      <th></th>\n",
       "      <th>competitorname</th>\n",
       "      <th>chocolate</th>\n",
       "      <th>fruity</th>\n",
       "      <th>caramel</th>\n",
       "      <th>peanutyalmondy</th>\n",
       "      <th>nougat</th>\n",
       "      <th>crispedricewafer</th>\n",
       "      <th>hard</th>\n",
       "      <th>bar</th>\n",
       "      <th>pluribus</th>\n",
       "      <th>sugarpercent</th>\n",
       "      <th>pricepercent</th>\n",
       "      <th>winpercent</th>\n",
       "    </tr>\n",
       "  </thead>\n",
       "  <tbody>\n",
       "    <tr>\n",
       "      <th>19</th>\n",
       "      <td>Haribo Happy Cola</td>\n",
       "      <td>0</td>\n",
       "      <td>0</td>\n",
       "      <td>0</td>\n",
       "      <td>0</td>\n",
       "      <td>0</td>\n",
       "      <td>0</td>\n",
       "      <td>0</td>\n",
       "      <td>0</td>\n",
       "      <td>1</td>\n",
       "      <td>0.465</td>\n",
       "      <td>0.465</td>\n",
       "      <td>0.342</td>\n",
       "    </tr>\n",
       "    <tr>\n",
       "      <th>70</th>\n",
       "      <td>Sugar Babies</td>\n",
       "      <td>0</td>\n",
       "      <td>0</td>\n",
       "      <td>1</td>\n",
       "      <td>0</td>\n",
       "      <td>0</td>\n",
       "      <td>0</td>\n",
       "      <td>0</td>\n",
       "      <td>0</td>\n",
       "      <td>1</td>\n",
       "      <td>0.965</td>\n",
       "      <td>0.767</td>\n",
       "      <td>0.334</td>\n",
       "    </tr>\n",
       "    <tr>\n",
       "      <th>2</th>\n",
       "      <td>One dime</td>\n",
       "      <td>0</td>\n",
       "      <td>0</td>\n",
       "      <td>0</td>\n",
       "      <td>0</td>\n",
       "      <td>0</td>\n",
       "      <td>0</td>\n",
       "      <td>0</td>\n",
       "      <td>0</td>\n",
       "      <td>0</td>\n",
       "      <td>0.011</td>\n",
       "      <td>0.116</td>\n",
       "      <td>0.323</td>\n",
       "    </tr>\n",
       "    <tr>\n",
       "      <th>71</th>\n",
       "      <td>Sugar Daddy</td>\n",
       "      <td>0</td>\n",
       "      <td>0</td>\n",
       "      <td>1</td>\n",
       "      <td>0</td>\n",
       "      <td>0</td>\n",
       "      <td>0</td>\n",
       "      <td>0</td>\n",
       "      <td>0</td>\n",
       "      <td>0</td>\n",
       "      <td>0.418</td>\n",
       "      <td>0.325</td>\n",
       "      <td>0.322</td>\n",
       "    </tr>\n",
       "    <tr>\n",
       "      <th>57</th>\n",
       "      <td>Root Beer Barrels</td>\n",
       "      <td>0</td>\n",
       "      <td>0</td>\n",
       "      <td>0</td>\n",
       "      <td>0</td>\n",
       "      <td>0</td>\n",
       "      <td>0</td>\n",
       "      <td>1</td>\n",
       "      <td>0</td>\n",
       "      <td>1</td>\n",
       "      <td>0.732</td>\n",
       "      <td>0.069</td>\n",
       "      <td>0.297</td>\n",
       "    </tr>\n",
       "    <tr>\n",
       "      <th>26</th>\n",
       "      <td>Jawbusters</td>\n",
       "      <td>0</td>\n",
       "      <td>1</td>\n",
       "      <td>0</td>\n",
       "      <td>0</td>\n",
       "      <td>0</td>\n",
       "      <td>0</td>\n",
       "      <td>1</td>\n",
       "      <td>0</td>\n",
       "      <td>1</td>\n",
       "      <td>0.093</td>\n",
       "      <td>0.511</td>\n",
       "      <td>0.281</td>\n",
       "    </tr>\n",
       "    <tr>\n",
       "      <th>72</th>\n",
       "      <td>Super Bubble</td>\n",
       "      <td>0</td>\n",
       "      <td>1</td>\n",
       "      <td>0</td>\n",
       "      <td>0</td>\n",
       "      <td>0</td>\n",
       "      <td>0</td>\n",
       "      <td>0</td>\n",
       "      <td>0</td>\n",
       "      <td>0</td>\n",
       "      <td>0.162</td>\n",
       "      <td>0.116</td>\n",
       "      <td>0.273</td>\n",
       "    </tr>\n",
       "    <tr>\n",
       "      <th>12</th>\n",
       "      <td>Chiclets</td>\n",
       "      <td>0</td>\n",
       "      <td>1</td>\n",
       "      <td>0</td>\n",
       "      <td>0</td>\n",
       "      <td>0</td>\n",
       "      <td>0</td>\n",
       "      <td>0</td>\n",
       "      <td>0</td>\n",
       "      <td>1</td>\n",
       "      <td>0.046</td>\n",
       "      <td>0.325</td>\n",
       "      <td>0.245</td>\n",
       "    </tr>\n",
       "    <tr>\n",
       "      <th>7</th>\n",
       "      <td>Boston Baked Beans</td>\n",
       "      <td>0</td>\n",
       "      <td>0</td>\n",
       "      <td>0</td>\n",
       "      <td>1</td>\n",
       "      <td>0</td>\n",
       "      <td>0</td>\n",
       "      <td>0</td>\n",
       "      <td>0</td>\n",
       "      <td>1</td>\n",
       "      <td>0.313</td>\n",
       "      <td>0.511</td>\n",
       "      <td>0.234</td>\n",
       "    </tr>\n",
       "    <tr>\n",
       "      <th>44</th>\n",
       "      <td>Nik L Nip</td>\n",
       "      <td>0</td>\n",
       "      <td>1</td>\n",
       "      <td>0</td>\n",
       "      <td>0</td>\n",
       "      <td>0</td>\n",
       "      <td>0</td>\n",
       "      <td>0</td>\n",
       "      <td>0</td>\n",
       "      <td>1</td>\n",
       "      <td>0.197</td>\n",
       "      <td>0.976</td>\n",
       "      <td>0.224</td>\n",
       "    </tr>\n",
       "  </tbody>\n",
       "</table>\n",
       "</div>"
      ],
      "text/plain": [
       "        competitorname  chocolate  fruity  caramel  peanutyalmondy  nougat  \\\n",
       "19   Haribo Happy Cola          0       0        0               0       0   \n",
       "70        Sugar Babies          0       0        1               0       0   \n",
       "2             One dime          0       0        0               0       0   \n",
       "71         Sugar Daddy          0       0        1               0       0   \n",
       "57   Root Beer Barrels          0       0        0               0       0   \n",
       "26          Jawbusters          0       1        0               0       0   \n",
       "72        Super Bubble          0       1        0               0       0   \n",
       "12            Chiclets          0       1        0               0       0   \n",
       "7   Boston Baked Beans          0       0        0               1       0   \n",
       "44           Nik L Nip          0       1        0               0       0   \n",
       "\n",
       "    crispedricewafer  hard  bar  pluribus  sugarpercent  pricepercent  \\\n",
       "19                 0     0    0         1         0.465         0.465   \n",
       "70                 0     0    0         1         0.965         0.767   \n",
       "2                  0     0    0         0         0.011         0.116   \n",
       "71                 0     0    0         0         0.418         0.325   \n",
       "57                 0     1    0         1         0.732         0.069   \n",
       "26                 0     1    0         1         0.093         0.511   \n",
       "72                 0     0    0         0         0.162         0.116   \n",
       "12                 0     0    0         1         0.046         0.325   \n",
       "7                  0     0    0         1         0.313         0.511   \n",
       "44                 0     0    0         1         0.197         0.976   \n",
       "\n",
       "    winpercent  \n",
       "19       0.342  \n",
       "70       0.334  \n",
       "2        0.323  \n",
       "71       0.322  \n",
       "57       0.297  \n",
       "26       0.281  \n",
       "72       0.273  \n",
       "12       0.245  \n",
       "7        0.234  \n",
       "44       0.224  "
      ]
     },
     "execution_count": 9,
     "metadata": {},
     "output_type": "execute_result"
    }
   ],
   "source": [
    "# Least fav candies \n",
    "df.sort_values('winpercent', ascending=False).tail(10)"
   ]
  },
  {
   "cell_type": "code",
   "execution_count": null,
   "id": "17329068-0704-4295-b0a8-6672c14294ce",
   "metadata": {},
   "outputs": [],
   "source": []
  },
  {
   "cell_type": "markdown",
   "id": "9bc6fd39-b4e3-4952-a8aa-3c614f079fd9",
   "metadata": {},
   "source": [
    "If we sort by price the game changes a lot, here the most fav candies can be either chocco or fruity. Probably, plays a good part the fact that you get many of them in one box for cheap, compared to the other case.  "
   ]
  },
  {
   "cell_type": "code",
   "execution_count": 10,
   "id": "8384960c-274a-4b29-b7da-1ab6c6ac88ca",
   "metadata": {},
   "outputs": [],
   "source": [
    "#df.sort_values('winbyprice', ascending=False).head(10)"
   ]
  },
  {
   "cell_type": "markdown",
   "id": "676e3b6c-33f2-42d6-a629-b50379cae148",
   "metadata": {},
   "source": [
    "Analyzing the candy components and some possible combinations"
   ]
  },
  {
   "cell_type": "code",
   "execution_count": 11,
   "id": "372ce770-529e-40b0-be10-56e98a379675",
   "metadata": {},
   "outputs": [
    {
     "name": "stdout",
     "output_type": "stream",
     "text": [
      "N of choco and fruity 1\n",
      "N of choco and peanutyalmondy 12\n",
      "N of choco and pluribus 12\n",
      "N of choco candies 37\n",
      "N of fruity 38\n"
     ]
    }
   ],
   "source": [
    "print(f\"N of choco and fruity {len(df[(df['chocolate']==1)&(df['fruity']==1)])}\")\n",
    "print(f\"N of choco and peanutyalmondy {len(df[(df['chocolate']==1)&(df['peanutyalmondy']==1)])}\")\n",
    "print(f\"N of choco and pluribus {len(df[(df['chocolate']==1)&(df['pluribus']==1)])}\")\n",
    "print(f\"N of choco candies {len(df[df['chocolate']==1])}\")\n",
    "print(f\"N of fruity {len(df[df['fruity']==1])}\")"
   ]
  },
  {
   "cell_type": "code",
   "execution_count": 12,
   "id": "83afc3f2-b829-4ffe-b370-d3c205209878",
   "metadata": {},
   "outputs": [
    {
     "data": {
      "text/html": [
       "<div>\n",
       "<style scoped>\n",
       "    .dataframe tbody tr th:only-of-type {\n",
       "        vertical-align: middle;\n",
       "    }\n",
       "\n",
       "    .dataframe tbody tr th {\n",
       "        vertical-align: top;\n",
       "    }\n",
       "\n",
       "    .dataframe thead th {\n",
       "        text-align: right;\n",
       "    }\n",
       "</style>\n",
       "<table border=\"1\" class=\"dataframe\">\n",
       "  <thead>\n",
       "    <tr style=\"text-align: right;\">\n",
       "      <th></th>\n",
       "      <th>competitorname</th>\n",
       "      <th>chocolate</th>\n",
       "      <th>fruity</th>\n",
       "      <th>caramel</th>\n",
       "      <th>peanutyalmondy</th>\n",
       "      <th>nougat</th>\n",
       "      <th>crispedricewafer</th>\n",
       "      <th>hard</th>\n",
       "      <th>bar</th>\n",
       "      <th>pluribus</th>\n",
       "      <th>sugarpercent</th>\n",
       "      <th>pricepercent</th>\n",
       "      <th>winpercent</th>\n",
       "    </tr>\n",
       "  </thead>\n",
       "  <tbody>\n",
       "    <tr>\n",
       "      <th>53</th>\n",
       "      <td>Reeses pieces</td>\n",
       "      <td>1</td>\n",
       "      <td>0</td>\n",
       "      <td>0</td>\n",
       "      <td>1</td>\n",
       "      <td>0</td>\n",
       "      <td>0</td>\n",
       "      <td>0</td>\n",
       "      <td>0</td>\n",
       "      <td>1</td>\n",
       "      <td>0.406</td>\n",
       "      <td>0.651</td>\n",
       "      <td>0.734</td>\n",
       "    </tr>\n",
       "    <tr>\n",
       "      <th>32</th>\n",
       "      <td>Peanut butter M&amp;Ms</td>\n",
       "      <td>1</td>\n",
       "      <td>0</td>\n",
       "      <td>0</td>\n",
       "      <td>1</td>\n",
       "      <td>0</td>\n",
       "      <td>0</td>\n",
       "      <td>0</td>\n",
       "      <td>0</td>\n",
       "      <td>1</td>\n",
       "      <td>0.825</td>\n",
       "      <td>0.651</td>\n",
       "      <td>0.715</td>\n",
       "    </tr>\n",
       "    <tr>\n",
       "      <th>47</th>\n",
       "      <td>Peanut M&amp;Ms</td>\n",
       "      <td>1</td>\n",
       "      <td>0</td>\n",
       "      <td>0</td>\n",
       "      <td>1</td>\n",
       "      <td>0</td>\n",
       "      <td>0</td>\n",
       "      <td>0</td>\n",
       "      <td>0</td>\n",
       "      <td>1</td>\n",
       "      <td>0.593</td>\n",
       "      <td>0.651</td>\n",
       "      <td>0.695</td>\n",
       "    </tr>\n",
       "    <tr>\n",
       "      <th>33</th>\n",
       "      <td>M&amp;Ms</td>\n",
       "      <td>1</td>\n",
       "      <td>0</td>\n",
       "      <td>0</td>\n",
       "      <td>0</td>\n",
       "      <td>0</td>\n",
       "      <td>0</td>\n",
       "      <td>0</td>\n",
       "      <td>0</td>\n",
       "      <td>1</td>\n",
       "      <td>0.825</td>\n",
       "      <td>0.651</td>\n",
       "      <td>0.666</td>\n",
       "    </tr>\n",
       "    <tr>\n",
       "      <th>56</th>\n",
       "      <td>Rolo</td>\n",
       "      <td>1</td>\n",
       "      <td>0</td>\n",
       "      <td>1</td>\n",
       "      <td>0</td>\n",
       "      <td>0</td>\n",
       "      <td>0</td>\n",
       "      <td>0</td>\n",
       "      <td>0</td>\n",
       "      <td>1</td>\n",
       "      <td>0.860</td>\n",
       "      <td>0.860</td>\n",
       "      <td>0.657</td>\n",
       "    </tr>\n",
       "  </tbody>\n",
       "</table>\n",
       "</div>"
      ],
      "text/plain": [
       "        competitorname  chocolate  fruity  caramel  peanutyalmondy  nougat  \\\n",
       "53       Reeses pieces          1       0        0               1       0   \n",
       "32  Peanut butter M&Ms          1       0        0               1       0   \n",
       "47         Peanut M&Ms          1       0        0               1       0   \n",
       "33                M&Ms          1       0        0               0       0   \n",
       "56                Rolo          1       0        1               0       0   \n",
       "\n",
       "    crispedricewafer  hard  bar  pluribus  sugarpercent  pricepercent  \\\n",
       "53                 0     0    0         1         0.406         0.651   \n",
       "32                 0     0    0         1         0.825         0.651   \n",
       "47                 0     0    0         1         0.593         0.651   \n",
       "33                 0     0    0         1         0.825         0.651   \n",
       "56                 0     0    0         1         0.860         0.860   \n",
       "\n",
       "    winpercent  \n",
       "53       0.734  \n",
       "32       0.715  \n",
       "47       0.695  \n",
       "33       0.666  \n",
       "56       0.657  "
      ]
     },
     "execution_count": 12,
     "metadata": {},
     "output_type": "execute_result"
    }
   ],
   "source": [
    "# This is a good combo but also quite expansive\n",
    "df[(df['chocolate']==1)&(df['pluribus']==1)].sort_values('winpercent', ascending=False)[:5]"
   ]
  },
  {
   "cell_type": "code",
   "execution_count": 13,
   "id": "7696a980-313f-487c-9565-36451923195d",
   "metadata": {},
   "outputs": [
    {
     "data": {
      "text/html": [
       "<div>\n",
       "<style scoped>\n",
       "    .dataframe tbody tr th:only-of-type {\n",
       "        vertical-align: middle;\n",
       "    }\n",
       "\n",
       "    .dataframe tbody tr th {\n",
       "        vertical-align: top;\n",
       "    }\n",
       "\n",
       "    .dataframe thead th {\n",
       "        text-align: right;\n",
       "    }\n",
       "</style>\n",
       "<table border=\"1\" class=\"dataframe\">\n",
       "  <thead>\n",
       "    <tr style=\"text-align: right;\">\n",
       "      <th></th>\n",
       "      <th>competitorname</th>\n",
       "      <th>chocolate</th>\n",
       "      <th>fruity</th>\n",
       "      <th>caramel</th>\n",
       "      <th>peanutyalmondy</th>\n",
       "      <th>nougat</th>\n",
       "      <th>crispedricewafer</th>\n",
       "      <th>hard</th>\n",
       "      <th>bar</th>\n",
       "      <th>pluribus</th>\n",
       "      <th>sugarpercent</th>\n",
       "      <th>pricepercent</th>\n",
       "      <th>winpercent</th>\n",
       "    </tr>\n",
       "  </thead>\n",
       "  <tbody>\n",
       "    <tr>\n",
       "      <th>74</th>\n",
       "      <td>Tootsie Pop</td>\n",
       "      <td>1</td>\n",
       "      <td>1</td>\n",
       "      <td>0</td>\n",
       "      <td>0</td>\n",
       "      <td>0</td>\n",
       "      <td>0</td>\n",
       "      <td>1</td>\n",
       "      <td>0</td>\n",
       "      <td>0</td>\n",
       "      <td>0.604</td>\n",
       "      <td>0.325</td>\n",
       "      <td>0.49</td>\n",
       "    </tr>\n",
       "  </tbody>\n",
       "</table>\n",
       "</div>"
      ],
      "text/plain": [
       "   competitorname  chocolate  fruity  caramel  peanutyalmondy  nougat  \\\n",
       "74    Tootsie Pop          1       1        0               0       0   \n",
       "\n",
       "    crispedricewafer  hard  bar  pluribus  sugarpercent  pricepercent  \\\n",
       "74                 0     1    0         0         0.604         0.325   \n",
       "\n",
       "    winpercent  \n",
       "74        0.49  "
      ]
     },
     "execution_count": 13,
     "metadata": {},
     "output_type": "execute_result"
    }
   ],
   "source": [
    "# Which is the one with both choco and fruit? \n",
    "df[(df['chocolate']==1)&(df['fruity']==1)]"
   ]
  },
  {
   "cell_type": "markdown",
   "id": "d15207c1-554d-464e-b6ad-d457a9801e00",
   "metadata": {},
   "source": [
    "Check perc yes/no for categorical values"
   ]
  },
  {
   "cell_type": "code",
   "execution_count": 14,
   "id": "5fcfa426-9029-4f92-ba4f-2237c1cf41b8",
   "metadata": {},
   "outputs": [
    {
     "name": "stdout",
     "output_type": "stream",
     "text": [
      "chocolate\n",
      "0    56.470588\n",
      "1    43.529412\n",
      "Name: chocolate, dtype: float64\n",
      "\n",
      "fruity\n",
      "0    55.294118\n",
      "1    44.705882\n",
      "Name: fruity, dtype: float64\n",
      "\n",
      "caramel\n",
      "0    83.529412\n",
      "1    16.470588\n",
      "Name: caramel, dtype: float64\n",
      "\n",
      "peanutyalmondy\n",
      "0    83.529412\n",
      "1    16.470588\n",
      "Name: peanutyalmondy, dtype: float64\n",
      "\n",
      "nougat\n",
      "0    91.764706\n",
      "1     8.235294\n",
      "Name: nougat, dtype: float64\n",
      "\n",
      "crispedricewafer\n",
      "0    91.764706\n",
      "1     8.235294\n",
      "Name: crispedricewafer, dtype: float64\n",
      "\n",
      "hard\n",
      "0    82.352941\n",
      "1    17.647059\n",
      "Name: hard, dtype: float64\n",
      "\n"
     ]
    }
   ],
   "source": [
    "for cat_val in df[df.columns[1:-5]]: \n",
    "    print(cat_val)\n",
    "    print(df[cat_val].value_counts(normalize = True)*100)\n",
    "    print()"
   ]
  },
  {
   "cell_type": "markdown",
   "id": "80d6344c-f86a-4b46-83a7-0883bd5311be",
   "metadata": {},
   "source": [
    "### Pearson Corr"
   ]
  },
  {
   "cell_type": "code",
   "execution_count": 15,
   "id": "3eb39125-c71c-41a2-9df3-c503c57928b8",
   "metadata": {},
   "outputs": [
    {
     "data": {
      "image/png": "[encoded data removed]",
      "text/plain": [
       "<Figure size 1728x864 with 2 Axes>"
      ]
     },
     "metadata": {},
     "output_type": "display_data"
    }
   ],
   "source": [
    "corr = df.corr()\n",
    "mask = np.zeros_like(corr)\n",
    "mask[np.triu_indices_from(mask)] = True\n",
    "with sns.axes_style(\"white\"):\n",
    "    f, ax = plt.subplots(figsize=(24, 12))\n",
    "    ax = sns.heatmap(df.corr(), mask=mask, vmax=.3, square=True, annot=True, cmap = 'coolwarm', linewidths=.5)"
   ]
  },
  {
   "cell_type": "markdown",
   "id": "30f356a6-7d9a-47e5-bbff-ea70d4a750a7",
   "metadata": {},
   "source": [
    "There's multicollinearity we'll adress with PCA. Chocolate is the most corr with winpercent, also with price perc though. We need to find a good combo to keep the price low and use chocolate. "
   ]
  },
  {
   "cell_type": "markdown",
   "id": "07d4603e-e7ef-480b-a9ba-67430570508e",
   "metadata": {},
   "source": [
    "### Spearman Corr"
   ]
  },
  {
   "cell_type": "code",
   "execution_count": 16,
   "id": "1acd11fc-2bcb-4948-8f8f-f8c88d852f67",
   "metadata": {},
   "outputs": [
    {
     "name": "stdout",
     "output_type": "stream",
     "text": [
      "winpercent vs sugar percent SpearmanrResult(correlation=0.21917627188619349, pvalue=0.04386672037824133)\n",
      "winpercent vs price percent SpearmanrResult(correlation=0.3546312501902001, pvalue=0.0008682735199554266)\n"
     ]
    }
   ],
   "source": [
    "print(\"winpercent vs sugar percent {}\".format(stats.spearmanr(df.winpercent, df.sugarpercent)))\n",
    "print(\"winpercent vs price percent {}\".format(stats.spearmanr(df.winpercent, df.pricepercent)))"
   ]
  },
  {
   "cell_type": "markdown",
   "id": "88115958-9180-4789-8bac-7069cfcbd759",
   "metadata": {},
   "source": [
    "### Apriori Algo"
   ]
  },
  {
   "cell_type": "code",
   "execution_count": 17,
   "id": "03545b8b-a3bc-42e1-ace3-f71d850cdd72",
   "metadata": {},
   "outputs": [
    {
     "data": {
      "text/plain": [
       "<AxesSubplot:title={'center':'Most Frequent Combination by Top Candies'}, ylabel='itemsets'>"
      ]
     },
     "execution_count": 17,
     "metadata": {},
     "output_type": "execute_result"
    },
    {
     "data": {
      "image/png": "[encoded data removed]",
      "text/plain": [
       "<Figure size 864x432 with 1 Axes>"
      ]
     },
     "metadata": {
      "needs_background": "light"
     },
     "output_type": "display_data"
    }
   ],
   "source": [
    "# filter candies greater than \n",
    "bests = df[df['winpercent']>df['winpercent'].quantile(.5)]\n",
    "df_bests =  bests[df.columns[1:-3]]\n",
    "\n",
    "# use apriori alg with min support .4\n",
    "result = apriori(df_bests, min_support=0.4,use_colnames=True).sort_values(by='support', ascending=False)\n",
    "\n",
    "# plot as a bar chart\n",
    "result.plot(kind='barh',x='itemsets',y='support',title=f'Most Frequent Combination by Top Candies',\n",
    "                 sort_columns=True,figsize = (12,6),legend=False)"
   ]
  },
  {
   "cell_type": "code",
   "execution_count": 18,
   "id": "eaed6fc6-09ab-4549-aa31-a315417f682e",
   "metadata": {},
   "outputs": [
    {
     "data": {
      "text/plain": [
       "<AxesSubplot:xlabel='fruity', ylabel='winpercent'>"
      ]
     },
     "execution_count": 18,
     "metadata": {},
     "output_type": "execute_result"
    },
    {
     "data": {
      "image/png": "[encoded data removed]",
      "text/plain": [
       "<Figure size 432x288 with 1 Axes>"
      ]
     },
     "metadata": {
      "needs_background": "light"
     },
     "output_type": "display_data"
    },
    {
     "data": {
      "image/png": "[encoded data removed]",
      "text/plain": [
       "<Figure size 432x288 with 1 Axes>"
      ]
     },
     "metadata": {
      "needs_background": "light"
     },
     "output_type": "display_data"
    }
   ],
   "source": [
    "plt.subplot2grid\n",
    "plt.figure(figsize=(6, 4))\n",
    "sns.boxplot(x=\"chocolate\", y=\"winpercent\", data=bests)\n",
    "plt.figure(figsize=(6, 4))\n",
    "sns.boxplot(x=\"fruity\", y=\"winpercent\", data=bests)"
   ]
  },
  {
   "cell_type": "code",
   "execution_count": 19,
   "id": "522b878b-8558-445a-a365-1ac5bc08e708",
   "metadata": {},
   "outputs": [
    {
     "data": {
      "text/plain": [
       "Index(['competitorname', 'chocolate', 'fruity', 'caramel', 'peanutyalmondy',\n",
       "       'nougat', 'crispedricewafer', 'hard', 'bar', 'pluribus', 'sugarpercent',\n",
       "       'pricepercent', 'winpercent'],\n",
       "      dtype='object')"
      ]
     },
     "execution_count": 19,
     "metadata": {},
     "output_type": "execute_result"
    }
   ],
   "source": [
    "df.columns"
   ]
  },
  {
   "cell_type": "code",
   "execution_count": 20,
   "id": "fb9d7561-408d-4b09-93f0-07c226b169b0",
   "metadata": {},
   "outputs": [
    {
     "data": {
      "image/png": "[encoded data removed]",
      "text/plain": [
       "<Figure size 576x432 with 1 Axes>"
      ]
     },
     "metadata": {
      "needs_background": "light"
     },
     "output_type": "display_data"
    }
   ],
   "source": [
    "#set a empty canva where to put the bargrahp \n",
    "fig, ax = plt.subplots()\n",
    "\n",
    "#create the bargraphs by player's race\n",
    "sns.barplot(data = df, \n",
    "            x = \"chocolate\", \n",
    "            y = \"winpercent\", \n",
    "            hue = \"peanutyalmondy\",  palette=\"Set2\")\n",
    "\n",
    "#Set title and labels for the axis \n",
    "plt.title(\"Chocolate with or without peanutyalmondy by Winperc\")\n",
    "plt.xlabel(\" \")\n",
    "plt.ylabel(\"winperc\")\n",
    "\n",
    "#set the graph's size\n",
    "fig.set_size_inches(8, 6)"
   ]
  },
  {
   "cell_type": "code",
   "execution_count": 21,
   "id": "5712c09f-2b2a-4c7a-8481-ce30187fe0c3",
   "metadata": {},
   "outputs": [
    {
     "data": {
      "text/plain": [
       "<seaborn.axisgrid.FacetGrid at 0x7f5e3d359730>"
      ]
     },
     "execution_count": 21,
     "metadata": {},
     "output_type": "execute_result"
    },
    {
     "data": {
      "image/png": "[encoded data removed]",
      "text/plain": [
       "<Figure size 1080x360 with 2 Axes>"
      ]
     },
     "metadata": {
      "needs_background": "light"
     },
     "output_type": "display_data"
    }
   ],
   "source": [
    "#Scatter plot with a regression line \n",
    "sns.lmplot(x = \"sugarpercent\", y = \"winpercent\", data = df, \n",
    "           hue= \"chocolate\", col = \"chocolate\", col_wrap=3, \n",
    "           palette=\"Set2\", ci = None)"
   ]
  },
  {
   "cell_type": "code",
   "execution_count": 22,
   "id": "07fb99a5-8aa1-4320-9d6b-f404c8209e94",
   "metadata": {},
   "outputs": [
    {
     "data": {
      "text/plain": [
       "<seaborn.axisgrid.FacetGrid at 0x7f5e3d1cf1c0>"
      ]
     },
     "execution_count": 22,
     "metadata": {},
     "output_type": "execute_result"
    },
    {
     "data": {
      "image/png": "[encoded data removed]",
      "text/plain": [
       "<Figure size 1080x360 with 2 Axes>"
      ]
     },
     "metadata": {
      "needs_background": "light"
     },
     "output_type": "display_data"
    }
   ],
   "source": [
    "#Scatter plot with a regression line \n",
    "sns.lmplot(x = \"pricepercent\", y = \"winpercent\", data = df, \n",
    "           hue= \"chocolate\", col = \"chocolate\", col_wrap=3, \n",
    "           palette=\"Set2\", ci = None)"
   ]
  },
  {
   "cell_type": "code",
   "execution_count": 23,
   "id": "ede9be71-62b7-442c-a0e4-e8bf6a8fbe9e",
   "metadata": {},
   "outputs": [
    {
     "data": {
      "text/plain": [
       "<seaborn.axisgrid.FacetGrid at 0x7f5e3d2e8310>"
      ]
     },
     "execution_count": 23,
     "metadata": {},
     "output_type": "execute_result"
    },
    {
     "data": {
      "image/png": "[encoded data removed]",
      "text/plain": [
       "<Figure size 1080x360 with 2 Axes>"
      ]
     },
     "metadata": {
      "needs_background": "light"
     },
     "output_type": "display_data"
    }
   ],
   "source": [
    "#Scatter plot with a regression line \n",
    "sns.lmplot(x = \"sugarpercent\", y = \"pricepercent\", data = df, \n",
    "           hue= \"chocolate\", col = \"chocolate\", col_wrap=3, \n",
    "           palette=\"Set2\", ci = None)"
   ]
  },
  {
   "cell_type": "markdown",
   "id": "0eaba67f-8bab-404a-8dcb-8663ea7ed094",
   "metadata": {},
   "source": [
    "Of course if the price increase the winperent is lower, compared if the sugar increase. Though, with chocolate, the slope it still positive. Also, more sugar means higher price. Perhaps, a choco candy with less sugar might be a good starting point. Howver, there are lots of the in the market already. "
   ]
  },
  {
   "cell_type": "code",
   "execution_count": 24,
   "id": "cad327fd-9acd-4836-a5f0-46eeb750488d",
   "metadata": {},
   "outputs": [
    {
     "name": "stdout",
     "output_type": "stream",
     "text": [
      "No choco no alm candy average winperc: 0.4245652173913043\n",
      "Choco and alm candy average winperc: 0.685\n",
      "With Choco and no alm candy average winperc: 0.5728800000000001\n"
     ]
    }
   ],
   "source": [
    "no_choco_no_alm = df[(df[\"chocolate\"] == 0) & (df[\"peanutyalmondy\"] == 0)][\"winpercent\"]\n",
    "\n",
    "print(f\"No choco no alm candy average winperc: {np.mean(no_choco_no_alm)}\")\n",
    "\n",
    "with_choco_alm = df[(df[\"chocolate\"] == 1) & (df[\"peanutyalmondy\"] == 1)][\"winpercent\"]\n",
    "\n",
    "print(f\"Choco and alm candy average winperc: {np.mean(with_choco_alm)}\")\n",
    "\n",
    "with_choco_no_alm = df[(df[\"chocolate\"] == 1) & (df[\"peanutyalmondy\"] == 0)][\"winpercent\"]\n",
    "\n",
    "print(f\"With Choco and no alm candy average winperc: {np.mean(with_choco_no_alm)}\")"
   ]
  },
  {
   "cell_type": "code",
   "execution_count": 25,
   "id": "d3c12764-42d1-4aa8-9de9-518e0065c805",
   "metadata": {},
   "outputs": [
    {
     "data": {
      "text/plain": [
       "(46, 12, 25)"
      ]
     },
     "execution_count": 25,
     "metadata": {},
     "output_type": "execute_result"
    }
   ],
   "source": [
    "# No much offering and this combo (choco and almond) has a high winpercent \n",
    "len(no_choco_no_alm), len(with_choco_alm), len(with_choco_no_alm)"
   ]
  },
  {
   "cell_type": "code",
   "execution_count": 26,
   "id": "3f474a1f-f3fc-4e78-8722-03d5344f02f9",
   "metadata": {},
   "outputs": [
    {
     "name": "stdout",
     "output_type": "stream",
     "text": [
      "t-value: -7.8698931393377825, p-value: 1.2661150216323444e-10\n"
     ]
    }
   ],
   "source": [
    "#Indipendent two sample t_test: no_choco_no_alm vs with_choco_alm \n",
    "t_val, p_val = stats.ttest_ind(no_choco_no_alm, with_choco_alm)\n",
    "print(f\"t-value: {t_val}, p-value: {p_val}\")"
   ]
  },
  {
   "cell_type": "code",
   "execution_count": 27,
   "id": "0caa8023-c359-4ad1-bc12-f0686b4a8169",
   "metadata": {},
   "outputs": [
    {
     "name": "stdout",
     "output_type": "stream",
     "text": [
      "t-value: -5.495327787291943, p-value: 6.123865714893236e-07\n"
     ]
    }
   ],
   "source": [
    " #Indipendent two sample t_test: no_choco_no_alm vs with_choco_no_alm \n",
    "t_val, p_val = stats.ttest_ind(no_choco_no_alm, with_choco_no_alm)\n",
    "print(f\"t-value: {t_val}, p-value: {p_val}\")"
   ]
  },
  {
   "cell_type": "code",
   "execution_count": 28,
   "id": "44818203-a429-462e-871d-9d80cd025775",
   "metadata": {},
   "outputs": [
    {
     "name": "stdout",
     "output_type": "stream",
     "text": [
      "t-value: 2.70019542967287, p-value: 0.010603859044829765\n"
     ]
    }
   ],
   "source": [
    " #Indipendent two sample t_test: no_choco_no_alm vs with_choco_no_alm \n",
    "t_val, p_val = stats.ttest_ind(with_choco_alm, with_choco_no_alm)\n",
    "print(f\"t-value: {t_val}, p-value: {p_val}\")"
   ]
  },
  {
   "cell_type": "markdown",
   "id": "c6d3ad0a-3f48-450c-9689-4a0d82244cb8",
   "metadata": {},
   "source": [
    "We have always got a t-value: +-2.44 < +-1.96 and a p-value: 0.015 < 0.05, hence we always reject the null hypothesis that the difference between the two population mean is zero. However, the p-value in the last test is bigger and result might change with a larger sample size. \n",
    "\n",
    "Anyway, with_choco_alm might be a really valuable choice. "
   ]
  },
  {
   "cell_type": "markdown",
   "id": "b244de8f-2ab7-42ce-b213-5498ad783d0e",
   "metadata": {},
   "source": [
    "## OLS"
   ]
  },
  {
   "cell_type": "code",
   "execution_count": 29,
   "id": "a1e9f649-a396-4b2b-92fd-5448f3c78749",
   "metadata": {},
   "outputs": [
    {
     "data": {
      "text/plain": [
       "Index(['competitorname', 'chocolate', 'fruity', 'caramel', 'peanutyalmondy',\n",
       "       'nougat', 'crispedricewafer', 'hard', 'bar', 'pluribus', 'sugarpercent',\n",
       "       'pricepercent', 'winpercent'],\n",
       "      dtype='object')"
      ]
     },
     "execution_count": 29,
     "metadata": {},
     "output_type": "execute_result"
    }
   ],
   "source": [
    "df.columns"
   ]
  },
  {
   "cell_type": "code",
   "execution_count": 30,
   "id": "a1ebf57c-76b1-458f-9ebe-9fed451696e0",
   "metadata": {},
   "outputs": [
    {
     "data": {
      "text/plain": [
       "85"
      ]
     },
     "execution_count": 30,
     "metadata": {},
     "output_type": "execute_result"
    }
   ],
   "source": [
    "# all unique let's drop this col \n",
    "len(df.competitorname.unique())"
   ]
  },
  {
   "cell_type": "code",
   "execution_count": 31,
   "id": "e65e1763-ebf3-441d-bdcc-e232c236d5f1",
   "metadata": {},
   "outputs": [],
   "source": [
    "#Store all the predictors in X\n",
    "X = df.drop([\"winpercent\", \"competitorname\"], axis = 1)\n",
    "\n",
    "#Store the target as y \n",
    "y = df[\"winpercent\"].copy()"
   ]
  },
  {
   "cell_type": "code",
   "execution_count": 32,
   "id": "7613a18b-2f42-4473-97b6-40cb7472af72",
   "metadata": {},
   "outputs": [
    {
     "data": {
      "text/html": [
       "<table class=\"simpletable\">\n",
       "<caption>OLS Regression Results</caption>\n",
       "<tr>\n",
       "  <th>Dep. Variable:</th>            <td>y</td>        <th>  R-squared:         </th> <td>   0.540</td>\n",
       "</tr>\n",
       "<tr>\n",
       "  <th>Model:</th>                   <td>OLS</td>       <th>  Adj. R-squared:    </th> <td>   0.471</td>\n",
       "</tr>\n",
       "<tr>\n",
       "  <th>Method:</th>             <td>Least Squares</td>  <th>  F-statistic:       </th> <td>   7.791</td>\n",
       "</tr>\n",
       "<tr>\n",
       "  <th>Date:</th>             <td>Sun, 06 Mar 2022</td> <th>  Prob (F-statistic):</th> <td>9.64e-09</td>\n",
       "</tr>\n",
       "<tr>\n",
       "  <th>Time:</th>                 <td>13:19:03</td>     <th>  Log-Likelihood:    </th> <td>  75.756</td>\n",
       "</tr>\n",
       "<tr>\n",
       "  <th>No. Observations:</th>      <td>    85</td>      <th>  AIC:               </th> <td>  -127.5</td>\n",
       "</tr>\n",
       "<tr>\n",
       "  <th>Df Residuals:</th>          <td>    73</td>      <th>  BIC:               </th> <td>  -98.20</td>\n",
       "</tr>\n",
       "<tr>\n",
       "  <th>Df Model:</th>              <td>    11</td>      <th>                     </th>     <td> </td>   \n",
       "</tr>\n",
       "<tr>\n",
       "  <th>Covariance Type:</th>      <td>nonrobust</td>    <th>                     </th>     <td> </td>   \n",
       "</tr>\n",
       "</table>\n",
       "<table class=\"simpletable\">\n",
       "<tr>\n",
       "      <td></td>         <th>coef</th>     <th>std err</th>      <th>t</th>      <th>P>|t|</th>  <th>[0.025</th>    <th>0.975]</th>  \n",
       "</tr>\n",
       "<tr>\n",
       "  <th>Intercept</th> <td>    0.3453</td> <td>    0.043</td> <td>    7.990</td> <td> 0.000</td> <td>    0.259</td> <td>    0.431</td>\n",
       "</tr>\n",
       "<tr>\n",
       "  <th>X[0]</th>      <td>    0.1976</td> <td>    0.039</td> <td>    5.066</td> <td> 0.000</td> <td>    0.120</td> <td>    0.275</td>\n",
       "</tr>\n",
       "<tr>\n",
       "  <th>X[1]</th>      <td>    0.0942</td> <td>    0.038</td> <td>    2.502</td> <td> 0.015</td> <td>    0.019</td> <td>    0.169</td>\n",
       "</tr>\n",
       "<tr>\n",
       "  <th>X[2]</th>      <td>    0.0221</td> <td>    0.037</td> <td>    0.605</td> <td> 0.547</td> <td>   -0.051</td> <td>    0.095</td>\n",
       "</tr>\n",
       "<tr>\n",
       "  <th>X[3]</th>      <td>    0.1006</td> <td>    0.036</td> <td>    2.781</td> <td> 0.007</td> <td>    0.029</td> <td>    0.173</td>\n",
       "</tr>\n",
       "<tr>\n",
       "  <th>X[4]</th>      <td>    0.0082</td> <td>    0.057</td> <td>    0.143</td> <td> 0.887</td> <td>   -0.106</td> <td>    0.122</td>\n",
       "</tr>\n",
       "<tr>\n",
       "  <th>X[5]</th>      <td>    0.0892</td> <td>    0.053</td> <td>    1.693</td> <td> 0.095</td> <td>   -0.016</td> <td>    0.194</td>\n",
       "</tr>\n",
       "<tr>\n",
       "  <th>X[6]</th>      <td>   -0.0616</td> <td>    0.035</td> <td>   -1.782</td> <td> 0.079</td> <td>   -0.131</td> <td>    0.007</td>\n",
       "</tr>\n",
       "<tr>\n",
       "  <th>X[7]</th>      <td>    0.0043</td> <td>    0.051</td> <td>    0.085</td> <td> 0.933</td> <td>   -0.097</td> <td>    0.105</td>\n",
       "</tr>\n",
       "<tr>\n",
       "  <th>X[8]</th>      <td>   -0.0086</td> <td>    0.030</td> <td>   -0.284</td> <td> 0.777</td> <td>   -0.069</td> <td>    0.052</td>\n",
       "</tr>\n",
       "<tr>\n",
       "  <th>X[9]</th>      <td>    0.0910</td> <td>    0.047</td> <td>    1.953</td> <td> 0.055</td> <td>   -0.002</td> <td>    0.184</td>\n",
       "</tr>\n",
       "<tr>\n",
       "  <th>X[10]</th>     <td>   -0.0594</td> <td>    0.055</td> <td>   -1.077</td> <td> 0.285</td> <td>   -0.169</td> <td>    0.051</td>\n",
       "</tr>\n",
       "</table>\n",
       "<table class=\"simpletable\">\n",
       "<tr>\n",
       "  <th>Omnibus:</th>       <td> 1.037</td> <th>  Durbin-Watson:     </th> <td>   1.728</td>\n",
       "</tr>\n",
       "<tr>\n",
       "  <th>Prob(Omnibus):</th> <td> 0.596</td> <th>  Jarque-Bera (JB):  </th> <td>   1.009</td>\n",
       "</tr>\n",
       "<tr>\n",
       "  <th>Skew:</th>          <td>-0.105</td> <th>  Prob(JB):          </th> <td>   0.604</td>\n",
       "</tr>\n",
       "<tr>\n",
       "  <th>Kurtosis:</th>      <td> 2.510</td> <th>  Cond. No.          </th> <td>    10.0</td>\n",
       "</tr>\n",
       "</table><br/><br/>Notes:<br/>[1] Standard Errors assume that the covariance matrix of the errors is correctly specified."
      ],
      "text/plain": [
       "<class 'statsmodels.iolib.summary.Summary'>\n",
       "\"\"\"\n",
       "                            OLS Regression Results                            \n",
       "==============================================================================\n",
       "Dep. Variable:                      y   R-squared:                       0.540\n",
       "Model:                            OLS   Adj. R-squared:                  0.471\n",
       "Method:                 Least Squares   F-statistic:                     7.791\n",
       "Date:                Sun, 06 Mar 2022   Prob (F-statistic):           9.64e-09\n",
       "Time:                        13:19:03   Log-Likelihood:                 75.756\n",
       "No. Observations:                  85   AIC:                            -127.5\n",
       "Df Residuals:                      73   BIC:                            -98.20\n",
       "Df Model:                          11                                         \n",
       "Covariance Type:            nonrobust                                         \n",
       "==============================================================================\n",
       "                 coef    std err          t      P>|t|      [0.025      0.975]\n",
       "------------------------------------------------------------------------------\n",
       "Intercept      0.3453      0.043      7.990      0.000       0.259       0.431\n",
       "X[0]           0.1976      0.039      5.066      0.000       0.120       0.275\n",
       "X[1]           0.0942      0.038      2.502      0.015       0.019       0.169\n",
       "X[2]           0.0221      0.037      0.605      0.547      -0.051       0.095\n",
       "X[3]           0.1006      0.036      2.781      0.007       0.029       0.173\n",
       "X[4]           0.0082      0.057      0.143      0.887      -0.106       0.122\n",
       "X[5]           0.0892      0.053      1.693      0.095      -0.016       0.194\n",
       "X[6]          -0.0616      0.035     -1.782      0.079      -0.131       0.007\n",
       "X[7]           0.0043      0.051      0.085      0.933      -0.097       0.105\n",
       "X[8]          -0.0086      0.030     -0.284      0.777      -0.069       0.052\n",
       "X[9]           0.0910      0.047      1.953      0.055      -0.002       0.184\n",
       "X[10]         -0.0594      0.055     -1.077      0.285      -0.169       0.051\n",
       "==============================================================================\n",
       "Omnibus:                        1.037   Durbin-Watson:                   1.728\n",
       "Prob(Omnibus):                  0.596   Jarque-Bera (JB):                1.009\n",
       "Skew:                          -0.105   Prob(JB):                        0.604\n",
       "Kurtosis:                       2.510   Cond. No.                         10.0\n",
       "==============================================================================\n",
       "\n",
       "Notes:\n",
       "[1] Standard Errors assume that the covariance matrix of the errors is correctly specified.\n",
       "\"\"\""
      ]
     },
     "execution_count": 32,
     "metadata": {},
     "output_type": "execute_result"
    }
   ],
   "source": [
    "#Fit the OLS using all the possible predictors in the dataset \n",
    "model = sm.OLS.from_formula(\"y ~ X\", data = df).fit()\n",
    "\n",
    "#Chech the model's summary\n",
    "model.summary()"
   ]
  },
  {
   "cell_type": "code",
   "execution_count": 33,
   "id": "35f2f087-df02-4d34-9a80-a2e7fbaeb368",
   "metadata": {},
   "outputs": [],
   "source": [
    "X_parsimonious = X.drop([\"nougat\", \"caramel\", \"pluribus\", \"bar\", \"hard\", \"sugarpercent\", \"pricepercent\"], axis=1)"
   ]
  },
  {
   "cell_type": "code",
   "execution_count": 34,
   "id": "0f364db3-923e-4495-b38f-081342a99643",
   "metadata": {},
   "outputs": [
    {
     "data": {
      "text/html": [
       "<table class=\"simpletable\">\n",
       "<caption>OLS Regression Results</caption>\n",
       "<tr>\n",
       "  <th>Dep. Variable:</th>            <td>y</td>        <th>  R-squared:         </th> <td>   0.492</td>\n",
       "</tr>\n",
       "<tr>\n",
       "  <th>Model:</th>                   <td>OLS</td>       <th>  Adj. R-squared:    </th> <td>   0.466</td>\n",
       "</tr>\n",
       "<tr>\n",
       "  <th>Method:</th>             <td>Least Squares</td>  <th>  F-statistic:       </th> <td>   19.36</td>\n",
       "</tr>\n",
       "<tr>\n",
       "  <th>Date:</th>             <td>Sun, 06 Mar 2022</td> <th>  Prob (F-statistic):</th> <td>3.60e-11</td>\n",
       "</tr>\n",
       "<tr>\n",
       "  <th>Time:</th>                 <td>13:19:03</td>     <th>  Log-Likelihood:    </th> <td>  71.521</td>\n",
       "</tr>\n",
       "<tr>\n",
       "  <th>No. Observations:</th>      <td>    85</td>      <th>  AIC:               </th> <td>  -133.0</td>\n",
       "</tr>\n",
       "<tr>\n",
       "  <th>Df Residuals:</th>          <td>    80</td>      <th>  BIC:               </th> <td>  -120.8</td>\n",
       "</tr>\n",
       "<tr>\n",
       "  <th>Df Model:</th>              <td>     4</td>      <th>                     </th>     <td> </td>   \n",
       "</tr>\n",
       "<tr>\n",
       "  <th>Covariance Type:</th>      <td>nonrobust</td>    <th>                     </th>     <td> </td>   \n",
       "</tr>\n",
       "</table>\n",
       "<table class=\"simpletable\">\n",
       "<tr>\n",
       "          <td></td>             <th>coef</th>     <th>std err</th>      <th>t</th>      <th>P>|t|</th>  <th>[0.025</th>    <th>0.975]</th>  \n",
       "</tr>\n",
       "<tr>\n",
       "  <th>Intercept</th>         <td>    0.3541</td> <td>    0.032</td> <td>   11.107</td> <td> 0.000</td> <td>    0.291</td> <td>    0.418</td>\n",
       "</tr>\n",
       "<tr>\n",
       "  <th>X_parsimonious[0]</th> <td>    0.2025</td> <td>    0.036</td> <td>    5.552</td> <td> 0.000</td> <td>    0.130</td> <td>    0.275</td>\n",
       "</tr>\n",
       "<tr>\n",
       "  <th>X_parsimonious[1]</th> <td>    0.0818</td> <td>    0.036</td> <td>    2.291</td> <td> 0.025</td> <td>    0.011</td> <td>    0.153</td>\n",
       "</tr>\n",
       "<tr>\n",
       "  <th>X_parsimonious[2]</th> <td>    0.1028</td> <td>    0.035</td> <td>    2.925</td> <td> 0.004</td> <td>    0.033</td> <td>    0.173</td>\n",
       "</tr>\n",
       "<tr>\n",
       "  <th>X_parsimonious[3]</th> <td>    0.0905</td> <td>    0.046</td> <td>    1.972</td> <td> 0.052</td> <td>   -0.001</td> <td>    0.182</td>\n",
       "</tr>\n",
       "</table>\n",
       "<table class=\"simpletable\">\n",
       "<tr>\n",
       "  <th>Omnibus:</th>       <td> 1.521</td> <th>  Durbin-Watson:     </th> <td>   1.891</td>\n",
       "</tr>\n",
       "<tr>\n",
       "  <th>Prob(Omnibus):</th> <td> 0.468</td> <th>  Jarque-Bera (JB):  </th> <td>   1.311</td>\n",
       "</tr>\n",
       "<tr>\n",
       "  <th>Skew:</th>          <td>-0.138</td> <th>  Prob(JB):          </th> <td>   0.519</td>\n",
       "</tr>\n",
       "<tr>\n",
       "  <th>Kurtosis:</th>      <td> 2.458</td> <th>  Cond. No.          </th> <td>    5.71</td>\n",
       "</tr>\n",
       "</table><br/><br/>Notes:<br/>[1] Standard Errors assume that the covariance matrix of the errors is correctly specified."
      ],
      "text/plain": [
       "<class 'statsmodels.iolib.summary.Summary'>\n",
       "\"\"\"\n",
       "                            OLS Regression Results                            \n",
       "==============================================================================\n",
       "Dep. Variable:                      y   R-squared:                       0.492\n",
       "Model:                            OLS   Adj. R-squared:                  0.466\n",
       "Method:                 Least Squares   F-statistic:                     19.36\n",
       "Date:                Sun, 06 Mar 2022   Prob (F-statistic):           3.60e-11\n",
       "Time:                        13:19:03   Log-Likelihood:                 71.521\n",
       "No. Observations:                  85   AIC:                            -133.0\n",
       "Df Residuals:                      80   BIC:                            -120.8\n",
       "Df Model:                           4                                         \n",
       "Covariance Type:            nonrobust                                         \n",
       "=====================================================================================\n",
       "                        coef    std err          t      P>|t|      [0.025      0.975]\n",
       "-------------------------------------------------------------------------------------\n",
       "Intercept             0.3541      0.032     11.107      0.000       0.291       0.418\n",
       "X_parsimonious[0]     0.2025      0.036      5.552      0.000       0.130       0.275\n",
       "X_parsimonious[1]     0.0818      0.036      2.291      0.025       0.011       0.153\n",
       "X_parsimonious[2]     0.1028      0.035      2.925      0.004       0.033       0.173\n",
       "X_parsimonious[3]     0.0905      0.046      1.972      0.052      -0.001       0.182\n",
       "==============================================================================\n",
       "Omnibus:                        1.521   Durbin-Watson:                   1.891\n",
       "Prob(Omnibus):                  0.468   Jarque-Bera (JB):                1.311\n",
       "Skew:                          -0.138   Prob(JB):                        0.519\n",
       "Kurtosis:                       2.458   Cond. No.                         5.71\n",
       "==============================================================================\n",
       "\n",
       "Notes:\n",
       "[1] Standard Errors assume that the covariance matrix of the errors is correctly specified.\n",
       "\"\"\""
      ]
     },
     "execution_count": 34,
     "metadata": {},
     "output_type": "execute_result"
    }
   ],
   "source": [
    "#Fit the OLS using all the possible predictors in the dataset \n",
    "model = sm.OLS.from_formula(\"y ~ X_parsimonious\", data = df).fit()\n",
    "\n",
    "#Chech the model's summary\n",
    "model.summary()"
   ]
  },
  {
   "cell_type": "code",
   "execution_count": 35,
   "id": "a2cdaa0d-714d-468d-b4bc-4366b3a8d9aa",
   "metadata": {},
   "outputs": [],
   "source": [
    "def my_ols(choco: int, fruit: int, alm: int, crisp: int): \n",
    "    win_perc =  0.3541 + (0.2025*choco) + (0.0818*fruit) + (0.1028*alm) + (0.0905*crisp)\n",
    "    return f\"The predicted salary has a value of: {win_perc * 100} %\""
   ]
  },
  {
   "cell_type": "code",
   "execution_count": 36,
   "id": "f135bfd6-06cb-4edb-8506-86e0b8658009",
   "metadata": {},
   "outputs": [
    {
     "data": {
      "text/plain": [
       "'The predicted salary has a value of: 74.99 %'"
      ]
     },
     "execution_count": 36,
     "metadata": {},
     "output_type": "execute_result"
    }
   ],
   "source": [
    "my_ols(choco=1, fruit=0, alm=1, crisp=1) "
   ]
  },
  {
   "cell_type": "code",
   "execution_count": 37,
   "id": "9b2ed216-3813-4421-ab0d-7c8cfcb5d3e4",
   "metadata": {},
   "outputs": [
    {
     "data": {
      "text/plain": [
       "'The predicted salary has a value of: 65.94 %'"
      ]
     },
     "execution_count": 37,
     "metadata": {},
     "output_type": "execute_result"
    }
   ],
   "source": [
    "my_ols(choco=1, fruit=0, alm=1, crisp=0)"
   ]
  },
  {
   "cell_type": "code",
   "execution_count": 38,
   "id": "41a042a4-ef9b-4604-8ed0-f637ba9d0bfa",
   "metadata": {},
   "outputs": [
    {
     "data": {
      "text/plain": [
       "'The predicted salary has a value of: 83.17 %'"
      ]
     },
     "execution_count": 38,
     "metadata": {},
     "output_type": "execute_result"
    }
   ],
   "source": [
    "my_ols(choco=1, fruit=1, alm=1, crisp=1)"
   ]
  },
  {
   "cell_type": "markdown",
   "id": "71cfca8b-fda5-477a-9364-6f3267ef8ff1",
   "metadata": {},
   "source": [
    "## PCA\n",
    "\n",
    "There is a bit of multicollinearity. We could use PCA for dimensionality reduction"
   ]
  },
  {
   "cell_type": "code",
   "execution_count": 39,
   "id": "0717118a-57fc-4f99-af9b-bcd4522f89de",
   "metadata": {},
   "outputs": [
    {
     "data": {
      "text/plain": [
       "PCA(random_state=42, svd_solver='randomized')"
      ]
     },
     "execution_count": 39,
     "metadata": {},
     "output_type": "execute_result"
    }
   ],
   "source": [
    "pca = PCA(svd_solver='randomized', random_state=42)\n",
    "pca.fit(X, y=None)"
   ]
  },
  {
   "cell_type": "code",
   "execution_count": 40,
   "id": "70458d0f-8c4a-429b-ac79-2adb62580c22",
   "metadata": {},
   "outputs": [
    {
     "name": "stdout",
     "output_type": "stream",
     "text": [
      "Explained variance by first two components: 56.98597003452521%\n",
      "Explained variance by first three components: 65.26829069757302%\n",
      "Explained variance by first four components: 72.48596230819707%\n",
      "Explained variance by first five components: 79.2260831259417%\n"
     ]
    }
   ],
   "source": [
    "print(\"Explained variance by first two components: {}%\".format(pca.explained_variance_ratio_[0:2].sum()*100))\n",
    "print(\"Explained variance by first three components: {}%\".format(pca.explained_variance_ratio_[0:3].sum()*100))\n",
    "print(\"Explained variance by first four components: {}%\".format(pca.explained_variance_ratio_[0:4].sum()*100))\n",
    "print(\"Explained variance by first five components: {}%\".format(pca.explained_variance_ratio_[0:5].sum()*100))"
   ]
  },
  {
   "cell_type": "markdown",
   "id": "3e4582a7-c910-4ac7-b874-53b0921f6640",
   "metadata": {},
   "source": [
    "First two should be okay. "
   ]
  },
  {
   "cell_type": "code",
   "execution_count": 41,
   "id": "66c9188c-c594-4fbc-9599-b2b40efa6fea",
   "metadata": {},
   "outputs": [
    {
     "data": {
      "text/html": [
       "<div>\n",
       "<style scoped>\n",
       "    .dataframe tbody tr th:only-of-type {\n",
       "        vertical-align: middle;\n",
       "    }\n",
       "\n",
       "    .dataframe tbody tr th {\n",
       "        vertical-align: top;\n",
       "    }\n",
       "\n",
       "    .dataframe thead th {\n",
       "        text-align: right;\n",
       "    }\n",
       "</style>\n",
       "<table border=\"1\" class=\"dataframe\">\n",
       "  <thead>\n",
       "    <tr style=\"text-align: right;\">\n",
       "      <th></th>\n",
       "      <th>PC1</th>\n",
       "      <th>PC2</th>\n",
       "      <th>Feature</th>\n",
       "    </tr>\n",
       "  </thead>\n",
       "  <tbody>\n",
       "    <tr>\n",
       "      <th>0</th>\n",
       "      <td>0.504117</td>\n",
       "      <td>0.268853</td>\n",
       "      <td>chocolate</td>\n",
       "    </tr>\n",
       "    <tr>\n",
       "      <th>1</th>\n",
       "      <td>-0.492122</td>\n",
       "      <td>-0.346325</td>\n",
       "      <td>fruity</td>\n",
       "    </tr>\n",
       "    <tr>\n",
       "      <th>2</th>\n",
       "      <td>0.196329</td>\n",
       "      <td>-0.124990</td>\n",
       "      <td>caramel</td>\n",
       "    </tr>\n",
       "    <tr>\n",
       "      <th>3</th>\n",
       "      <td>0.207407</td>\n",
       "      <td>0.153608</td>\n",
       "      <td>peanutyalmondy</td>\n",
       "    </tr>\n",
       "    <tr>\n",
       "      <th>4</th>\n",
       "      <td>0.145375</td>\n",
       "      <td>-0.124163</td>\n",
       "      <td>nougat</td>\n",
       "    </tr>\n",
       "    <tr>\n",
       "      <th>5</th>\n",
       "      <td>0.132925</td>\n",
       "      <td>-0.033906</td>\n",
       "      <td>crispedricewafer</td>\n",
       "    </tr>\n",
       "    <tr>\n",
       "      <th>6</th>\n",
       "      <td>-0.188254</td>\n",
       "      <td>-0.363448</td>\n",
       "      <td>hard</td>\n",
       "    </tr>\n",
       "    <tr>\n",
       "      <th>7</th>\n",
       "      <td>0.419428</td>\n",
       "      <td>-0.251120</td>\n",
       "      <td>bar</td>\n",
       "    </tr>\n",
       "    <tr>\n",
       "      <th>8</th>\n",
       "      <td>-0.360884</td>\n",
       "      <td>0.742920</td>\n",
       "      <td>pluribus</td>\n",
       "    </tr>\n",
       "    <tr>\n",
       "      <th>9</th>\n",
       "      <td>0.038526</td>\n",
       "      <td>0.017161</td>\n",
       "      <td>sugarpercent</td>\n",
       "    </tr>\n",
       "    <tr>\n",
       "      <th>10</th>\n",
       "      <td>0.200588</td>\n",
       "      <td>0.067914</td>\n",
       "      <td>pricepercent</td>\n",
       "    </tr>\n",
       "  </tbody>\n",
       "</table>\n",
       "</div>"
      ],
      "text/plain": [
       "         PC1       PC2           Feature\n",
       "0   0.504117  0.268853         chocolate\n",
       "1  -0.492122 -0.346325            fruity\n",
       "2   0.196329 -0.124990           caramel\n",
       "3   0.207407  0.153608    peanutyalmondy\n",
       "4   0.145375 -0.124163            nougat\n",
       "5   0.132925 -0.033906  crispedricewafer\n",
       "6  -0.188254 -0.363448              hard\n",
       "7   0.419428 -0.251120               bar\n",
       "8  -0.360884  0.742920          pluribus\n",
       "9   0.038526  0.017161      sugarpercent\n",
       "10  0.200588  0.067914      pricepercent"
      ]
     },
     "execution_count": 41,
     "metadata": {},
     "output_type": "execute_result"
    }
   ],
   "source": [
    "pca_df = pd.DataFrame({'PC1':pca.components_[0],'PC2':pca.components_[1], 'Feature':X.columns})\n",
    "pca_df"
   ]
  },
  {
   "cell_type": "markdown",
   "id": "e1df8999-4201-43b1-bfc9-a5be64827ef4",
   "metadata": {
    "tags": []
   },
   "source": [
    "## PCA ANLYSIS \n",
    "\n",
    "\n",
    "PC1 | PC2 | Feature\n",
    "-------|------------ | -----------\n",
    "0.504117 | 0.268853 | chocolate\n",
    "-0.492122 | -0.346325 | fruity\n",
    "0.196329 | -0.124990 | caramel\n",
    "0.207407 | 0.153608 | peanutyalmondy\n",
    "0.145375 | -0.124163 | nougat\n",
    "0.132925 | -0.033906 | crispedricewafer\n",
    "-0.188254 | -0.363448 | hard\n",
    "0.419428 | -0.251120 | bar\n",
    "-0.360884 | 0.742920 | pluribus\n",
    "0.038526 | 0.017161 | sugarpercent\n",
    "0.200588| 0.067914 | pricepercen\n",
    "\n",
    "* PCA 1: chocolate, caramel, peanutyalmondy, nougat, crispedricewafer, hard, bar, pricepercen\n",
    "* PCA 2: fruity, pluribus, sugarpercent\n",
    "\n",
    "PCA1 are typical choco candies in all their forms, PCA2 are the ones you buy in a box/pack, they're probabily small fruity candy with a lot of sugar. \n",
    "First ones are  more expansive, second one are cheaper.  "
   ]
  },
  {
   "cell_type": "code",
   "execution_count": 42,
   "id": "9b86f7e4-47c8-49dd-a5e1-68c88fa17b7c",
   "metadata": {},
   "outputs": [
    {
     "data": {
      "text/plain": [
       "0            chocolate\n",
       "1               fruity\n",
       "2              caramel\n",
       "3       peanutyalmondy\n",
       "4               nougat\n",
       "5     crispedricewafer\n",
       "6                 hard\n",
       "7                  bar\n",
       "8             pluribus\n",
       "9         sugarpercent\n",
       "10        pricepercent\n",
       "Name: Feature, dtype: object"
      ]
     },
     "execution_count": 42,
     "metadata": {},
     "output_type": "execute_result"
    }
   ],
   "source": [
    "pca_df.Feature"
   ]
  },
  {
   "cell_type": "code",
   "execution_count": 43,
   "id": "b89df77e-bf52-4232-bbc7-59bd1c057597",
   "metadata": {},
   "outputs": [
    {
     "data": {
      "image/png": "[encoded data removed]",
      "text/plain": [
       "<Figure size 864x576 with 1 Axes>"
      ]
     },
     "metadata": {
      "needs_background": "light"
     },
     "output_type": "display_data"
    }
   ],
   "source": [
    "fig = plt.figure(figsize = (12,8))\n",
    "\n",
    "plt.scatter(pca_df.PC1, pca_df.PC2)\n",
    "\n",
    "plt.xlabel('Principal Component 1')\n",
    "plt.ylabel('Principal Component 2')\n",
    "\n",
    "for i, txt in enumerate(pca_df.Feature):\n",
    "    plt.annotate(txt, (pca_df.PC1[i],pca_df.PC2[i]))\n",
    "plt.tight_layout()"
   ]
  },
  {
   "cell_type": "code",
   "execution_count": 44,
   "id": "50331f22-53b2-4b86-aa6a-e9ba39b158e9",
   "metadata": {},
   "outputs": [],
   "source": [
    "# Tranform the dataset, keep only first two components \n",
    "df_pca = pca.transform(X) \n",
    "df_pca = df_pca[:, 0:2]\n",
    "\n",
    "scaler = RobustScaler()\n",
    "df_scaled = scaler.fit_transform(df_pca)"
   ]
  },
  {
   "cell_type": "code",
   "execution_count": 45,
   "id": "84b259f4-891b-4c88-8377-6ac17e823833",
   "metadata": {},
   "outputs": [
    {
     "data": {
      "text/plain": [
       "0.9634784981339458"
      ]
     },
     "execution_count": 45,
     "metadata": {},
     "output_type": "execute_result"
    }
   ],
   "source": [
    "hopkins_test(pd.DataFrame(df_scaled))"
   ]
  },
  {
   "cell_type": "markdown",
   "id": "f50321d3-f12e-4cea-ad95-437486f6e476",
   "metadata": {},
   "source": [
    "Clusters are statistically significant. "
   ]
  },
  {
   "cell_type": "code",
   "execution_count": 46,
   "id": "dd51cdde-995e-4ef8-906e-8c9b2bc67459",
   "metadata": {},
   "outputs": [
    {
     "data": {
      "image/png": "[encoded data removed]",
      "text/plain": [
       "<Figure size 864x432 with 1 Axes>"
      ]
     },
     "metadata": {
      "needs_background": "light"
     },
     "output_type": "display_data"
    }
   ],
   "source": [
    "distortions = []\n",
    "K = range(1,10)\n",
    "for k in K:\n",
    "    kmeanModel = KMeans(n_clusters=k)\n",
    "    kmeanModel.fit(df_scaled)\n",
    "    distortions.append(kmeanModel.inertia_)\n",
    "    \n",
    "plt.figure(figsize=(12,6))\n",
    "plt.plot(K, distortions, 'bx-')\n",
    "plt.xlabel('k')\n",
    "plt.ylabel('Distortion')\n",
    "plt.title('The Elbow Method showing the optimal k')\n",
    "plt.show()"
   ]
  },
  {
   "cell_type": "code",
   "execution_count": 47,
   "id": "eb4d70b8-7522-4f02-90c9-21a6a1f4ecdd",
   "metadata": {},
   "outputs": [
    {
     "data": {
      "text/plain": [
       "KMeans(n_clusters=4, random_state=42)"
      ]
     },
     "execution_count": 47,
     "metadata": {},
     "output_type": "execute_result"
    }
   ],
   "source": [
    "kmeanModel = KMeans(n_clusters=4, random_state=42)\n",
    "kmeanModel.fit(df_scaled)"
   ]
  },
  {
   "cell_type": "code",
   "execution_count": 48,
   "id": "9c3f92f0-7dac-4571-958a-ba538e770b02",
   "metadata": {},
   "outputs": [
    {
     "data": {
      "text/plain": [
       "True"
      ]
     },
     "execution_count": 48,
     "metadata": {},
     "output_type": "execute_result"
    }
   ],
   "source": [
    "len(kmeanModel.labels_) == 85"
   ]
  },
  {
   "cell_type": "code",
   "execution_count": 49,
   "id": "b636f5be-8329-4fe3-976c-1c7b8cd22926",
   "metadata": {},
   "outputs": [
    {
     "data": {
      "text/plain": [
       "array([2, 2, 2, 2, 1, 2, 2, 3, 3, 1, 2, 0, 0, 0, 1, 0, 1, 0, 0, 3, 0, 0,\n",
       "       3, 2, 2, 2, 0, 3, 2, 1, 1, 1, 3, 3, 0, 3, 2, 2, 2, 2, 2, 0, 2, 2,\n",
       "       0, 0, 2, 3, 3, 0, 0, 2, 2, 3, 2, 1, 3, 0, 0, 3, 0, 0, 3, 0, 2, 2,\n",
       "       0, 0, 0, 0, 3, 2, 1, 0, 1, 2, 3, 2, 0, 2, 1, 1, 0, 1, 3],\n",
       "      dtype=int32)"
      ]
     },
     "execution_count": 49,
     "metadata": {},
     "output_type": "execute_result"
    }
   ],
   "source": [
    "kmeanModel.labels_"
   ]
  },
  {
   "cell_type": "code",
   "execution_count": 50,
   "id": "c42a507c-ec0b-4906-9164-fc035eca3e57",
   "metadata": {},
   "outputs": [
    {
     "data": {
      "text/html": [
       "<div>\n",
       "<style scoped>\n",
       "    .dataframe tbody tr th:only-of-type {\n",
       "        vertical-align: middle;\n",
       "    }\n",
       "\n",
       "    .dataframe tbody tr th {\n",
       "        vertical-align: top;\n",
       "    }\n",
       "\n",
       "    .dataframe thead th {\n",
       "        text-align: right;\n",
       "    }\n",
       "</style>\n",
       "<table border=\"1\" class=\"dataframe\">\n",
       "  <thead>\n",
       "    <tr style=\"text-align: right;\">\n",
       "      <th></th>\n",
       "      <th>competitorname</th>\n",
       "      <th>chocolate</th>\n",
       "      <th>fruity</th>\n",
       "      <th>caramel</th>\n",
       "      <th>peanutyalmondy</th>\n",
       "      <th>nougat</th>\n",
       "      <th>crispedricewafer</th>\n",
       "      <th>hard</th>\n",
       "      <th>bar</th>\n",
       "      <th>pluribus</th>\n",
       "      <th>sugarpercent</th>\n",
       "      <th>pricepercent</th>\n",
       "      <th>winpercent</th>\n",
       "      <th>0</th>\n",
       "    </tr>\n",
       "  </thead>\n",
       "  <tbody>\n",
       "    <tr>\n",
       "      <th>0</th>\n",
       "      <td>100 Grand</td>\n",
       "      <td>1</td>\n",
       "      <td>0</td>\n",
       "      <td>1</td>\n",
       "      <td>0</td>\n",
       "      <td>0</td>\n",
       "      <td>1</td>\n",
       "      <td>0</td>\n",
       "      <td>1</td>\n",
       "      <td>0</td>\n",
       "      <td>0.732</td>\n",
       "      <td>0.860</td>\n",
       "      <td>0.670</td>\n",
       "      <td>2</td>\n",
       "    </tr>\n",
       "    <tr>\n",
       "      <th>1</th>\n",
       "      <td>3 Musketeers</td>\n",
       "      <td>1</td>\n",
       "      <td>0</td>\n",
       "      <td>0</td>\n",
       "      <td>0</td>\n",
       "      <td>1</td>\n",
       "      <td>0</td>\n",
       "      <td>0</td>\n",
       "      <td>1</td>\n",
       "      <td>0</td>\n",
       "      <td>0.604</td>\n",
       "      <td>0.511</td>\n",
       "      <td>0.676</td>\n",
       "      <td>2</td>\n",
       "    </tr>\n",
       "    <tr>\n",
       "      <th>2</th>\n",
       "      <td>One dime</td>\n",
       "      <td>0</td>\n",
       "      <td>0</td>\n",
       "      <td>0</td>\n",
       "      <td>0</td>\n",
       "      <td>0</td>\n",
       "      <td>0</td>\n",
       "      <td>0</td>\n",
       "      <td>0</td>\n",
       "      <td>0</td>\n",
       "      <td>0.011</td>\n",
       "      <td>0.116</td>\n",
       "      <td>0.323</td>\n",
       "      <td>2</td>\n",
       "    </tr>\n",
       "    <tr>\n",
       "      <th>3</th>\n",
       "      <td>One quarter</td>\n",
       "      <td>0</td>\n",
       "      <td>0</td>\n",
       "      <td>0</td>\n",
       "      <td>0</td>\n",
       "      <td>0</td>\n",
       "      <td>0</td>\n",
       "      <td>0</td>\n",
       "      <td>0</td>\n",
       "      <td>0</td>\n",
       "      <td>0.011</td>\n",
       "      <td>0.511</td>\n",
       "      <td>0.461</td>\n",
       "      <td>2</td>\n",
       "    </tr>\n",
       "    <tr>\n",
       "      <th>4</th>\n",
       "      <td>Air Heads</td>\n",
       "      <td>0</td>\n",
       "      <td>1</td>\n",
       "      <td>0</td>\n",
       "      <td>0</td>\n",
       "      <td>0</td>\n",
       "      <td>0</td>\n",
       "      <td>0</td>\n",
       "      <td>0</td>\n",
       "      <td>0</td>\n",
       "      <td>0.906</td>\n",
       "      <td>0.511</td>\n",
       "      <td>0.523</td>\n",
       "      <td>1</td>\n",
       "    </tr>\n",
       "    <tr>\n",
       "      <th>...</th>\n",
       "      <td>...</td>\n",
       "      <td>...</td>\n",
       "      <td>...</td>\n",
       "      <td>...</td>\n",
       "      <td>...</td>\n",
       "      <td>...</td>\n",
       "      <td>...</td>\n",
       "      <td>...</td>\n",
       "      <td>...</td>\n",
       "      <td>...</td>\n",
       "      <td>...</td>\n",
       "      <td>...</td>\n",
       "      <td>...</td>\n",
       "      <td>...</td>\n",
       "    </tr>\n",
       "    <tr>\n",
       "      <th>80</th>\n",
       "      <td>Twizzlers</td>\n",
       "      <td>0</td>\n",
       "      <td>1</td>\n",
       "      <td>0</td>\n",
       "      <td>0</td>\n",
       "      <td>0</td>\n",
       "      <td>0</td>\n",
       "      <td>0</td>\n",
       "      <td>0</td>\n",
       "      <td>0</td>\n",
       "      <td>0.220</td>\n",
       "      <td>0.116</td>\n",
       "      <td>0.455</td>\n",
       "      <td>1</td>\n",
       "    </tr>\n",
       "    <tr>\n",
       "      <th>81</th>\n",
       "      <td>Warheads</td>\n",
       "      <td>0</td>\n",
       "      <td>1</td>\n",
       "      <td>0</td>\n",
       "      <td>0</td>\n",
       "      <td>0</td>\n",
       "      <td>0</td>\n",
       "      <td>1</td>\n",
       "      <td>0</td>\n",
       "      <td>0</td>\n",
       "      <td>0.093</td>\n",
       "      <td>0.116</td>\n",
       "      <td>0.390</td>\n",
       "      <td>1</td>\n",
       "    </tr>\n",
       "    <tr>\n",
       "      <th>82</th>\n",
       "      <td>Welchs Fruit Snacks</td>\n",
       "      <td>0</td>\n",
       "      <td>1</td>\n",
       "      <td>0</td>\n",
       "      <td>0</td>\n",
       "      <td>0</td>\n",
       "      <td>0</td>\n",
       "      <td>0</td>\n",
       "      <td>0</td>\n",
       "      <td>1</td>\n",
       "      <td>0.313</td>\n",
       "      <td>0.313</td>\n",
       "      <td>0.444</td>\n",
       "      <td>0</td>\n",
       "    </tr>\n",
       "    <tr>\n",
       "      <th>83</th>\n",
       "      <td>Werthers Original Caramel</td>\n",
       "      <td>0</td>\n",
       "      <td>0</td>\n",
       "      <td>1</td>\n",
       "      <td>0</td>\n",
       "      <td>0</td>\n",
       "      <td>0</td>\n",
       "      <td>1</td>\n",
       "      <td>0</td>\n",
       "      <td>0</td>\n",
       "      <td>0.186</td>\n",
       "      <td>0.267</td>\n",
       "      <td>0.419</td>\n",
       "      <td>1</td>\n",
       "    </tr>\n",
       "    <tr>\n",
       "      <th>84</th>\n",
       "      <td>Whoppers</td>\n",
       "      <td>1</td>\n",
       "      <td>0</td>\n",
       "      <td>0</td>\n",
       "      <td>0</td>\n",
       "      <td>0</td>\n",
       "      <td>1</td>\n",
       "      <td>0</td>\n",
       "      <td>0</td>\n",
       "      <td>1</td>\n",
       "      <td>0.872</td>\n",
       "      <td>0.848</td>\n",
       "      <td>0.495</td>\n",
       "      <td>3</td>\n",
       "    </tr>\n",
       "  </tbody>\n",
       "</table>\n",
       "<p>85 rows × 14 columns</p>\n",
       "</div>"
      ],
      "text/plain": [
       "               competitorname  chocolate  fruity  caramel  peanutyalmondy  \\\n",
       "0                   100 Grand          1       0        1               0   \n",
       "1                3 Musketeers          1       0        0               0   \n",
       "2                    One dime          0       0        0               0   \n",
       "3                 One quarter          0       0        0               0   \n",
       "4                   Air Heads          0       1        0               0   \n",
       "..                        ...        ...     ...      ...             ...   \n",
       "80                  Twizzlers          0       1        0               0   \n",
       "81                   Warheads          0       1        0               0   \n",
       "82        Welchs Fruit Snacks          0       1        0               0   \n",
       "83  Werthers Original Caramel          0       0        1               0   \n",
       "84                   Whoppers          1       0        0               0   \n",
       "\n",
       "    nougat  crispedricewafer  hard  bar  pluribus  sugarpercent  pricepercent  \\\n",
       "0        0                 1     0    1         0         0.732         0.860   \n",
       "1        1                 0     0    1         0         0.604         0.511   \n",
       "2        0                 0     0    0         0         0.011         0.116   \n",
       "3        0                 0     0    0         0         0.011         0.511   \n",
       "4        0                 0     0    0         0         0.906         0.511   \n",
       "..     ...               ...   ...  ...       ...           ...           ...   \n",
       "80       0                 0     0    0         0         0.220         0.116   \n",
       "81       0                 0     1    0         0         0.093         0.116   \n",
       "82       0                 0     0    0         1         0.313         0.313   \n",
       "83       0                 0     1    0         0         0.186         0.267   \n",
       "84       0                 1     0    0         1         0.872         0.848   \n",
       "\n",
       "    winpercent  0  \n",
       "0        0.670  2  \n",
       "1        0.676  2  \n",
       "2        0.323  2  \n",
       "3        0.461  2  \n",
       "4        0.523  1  \n",
       "..         ... ..  \n",
       "80       0.455  1  \n",
       "81       0.390  1  \n",
       "82       0.444  0  \n",
       "83       0.419  1  \n",
       "84       0.495  3  \n",
       "\n",
       "[85 rows x 14 columns]"
      ]
     },
     "execution_count": 50,
     "metadata": {},
     "output_type": "execute_result"
    }
   ],
   "source": [
    "# creation of data frame with original features for analysis of clusters formed.\n",
    "\n",
    "df_dummy = pd.DataFrame.copy(df)\n",
    "dfkm4c = pd.concat([df_dummy, pd.Series(kmeanModel.labels_)], axis=1) # df-dataframe, km-kmeans, 5c-5clusters.\n",
    "dfkm4c"
   ]
  },
  {
   "cell_type": "code",
   "execution_count": 51,
   "id": "7cfc14f2-e0b3-48e8-b7f8-429259b6c2e6",
   "metadata": {},
   "outputs": [
    {
     "data": {
      "text/html": [
       "<div>\n",
       "<style scoped>\n",
       "    .dataframe tbody tr th:only-of-type {\n",
       "        vertical-align: middle;\n",
       "    }\n",
       "\n",
       "    .dataframe tbody tr th {\n",
       "        vertical-align: top;\n",
       "    }\n",
       "\n",
       "    .dataframe thead th {\n",
       "        text-align: right;\n",
       "    }\n",
       "</style>\n",
       "<table border=\"1\" class=\"dataframe\">\n",
       "  <thead>\n",
       "    <tr style=\"text-align: right;\">\n",
       "      <th></th>\n",
       "      <th>competitorname</th>\n",
       "      <th>chocolate</th>\n",
       "      <th>fruity</th>\n",
       "      <th>caramel</th>\n",
       "      <th>peanutyalmondy</th>\n",
       "      <th>nougat</th>\n",
       "      <th>crispedricewafer</th>\n",
       "      <th>hard</th>\n",
       "      <th>bar</th>\n",
       "      <th>pluribus</th>\n",
       "      <th>sugarpercent</th>\n",
       "      <th>pricepercent</th>\n",
       "      <th>winpercent</th>\n",
       "      <th>Cluster ID</th>\n",
       "    </tr>\n",
       "  </thead>\n",
       "  <tbody>\n",
       "    <tr>\n",
       "      <th>0</th>\n",
       "      <td>100 Grand</td>\n",
       "      <td>1</td>\n",
       "      <td>0</td>\n",
       "      <td>1</td>\n",
       "      <td>0</td>\n",
       "      <td>0</td>\n",
       "      <td>1</td>\n",
       "      <td>0</td>\n",
       "      <td>1</td>\n",
       "      <td>0</td>\n",
       "      <td>0.732</td>\n",
       "      <td>0.860</td>\n",
       "      <td>0.670</td>\n",
       "      <td>2</td>\n",
       "    </tr>\n",
       "    <tr>\n",
       "      <th>1</th>\n",
       "      <td>3 Musketeers</td>\n",
       "      <td>1</td>\n",
       "      <td>0</td>\n",
       "      <td>0</td>\n",
       "      <td>0</td>\n",
       "      <td>1</td>\n",
       "      <td>0</td>\n",
       "      <td>0</td>\n",
       "      <td>1</td>\n",
       "      <td>0</td>\n",
       "      <td>0.604</td>\n",
       "      <td>0.511</td>\n",
       "      <td>0.676</td>\n",
       "      <td>2</td>\n",
       "    </tr>\n",
       "    <tr>\n",
       "      <th>2</th>\n",
       "      <td>One dime</td>\n",
       "      <td>0</td>\n",
       "      <td>0</td>\n",
       "      <td>0</td>\n",
       "      <td>0</td>\n",
       "      <td>0</td>\n",
       "      <td>0</td>\n",
       "      <td>0</td>\n",
       "      <td>0</td>\n",
       "      <td>0</td>\n",
       "      <td>0.011</td>\n",
       "      <td>0.116</td>\n",
       "      <td>0.323</td>\n",
       "      <td>2</td>\n",
       "    </tr>\n",
       "    <tr>\n",
       "      <th>3</th>\n",
       "      <td>One quarter</td>\n",
       "      <td>0</td>\n",
       "      <td>0</td>\n",
       "      <td>0</td>\n",
       "      <td>0</td>\n",
       "      <td>0</td>\n",
       "      <td>0</td>\n",
       "      <td>0</td>\n",
       "      <td>0</td>\n",
       "      <td>0</td>\n",
       "      <td>0.011</td>\n",
       "      <td>0.511</td>\n",
       "      <td>0.461</td>\n",
       "      <td>2</td>\n",
       "    </tr>\n",
       "    <tr>\n",
       "      <th>4</th>\n",
       "      <td>Air Heads</td>\n",
       "      <td>0</td>\n",
       "      <td>1</td>\n",
       "      <td>0</td>\n",
       "      <td>0</td>\n",
       "      <td>0</td>\n",
       "      <td>0</td>\n",
       "      <td>0</td>\n",
       "      <td>0</td>\n",
       "      <td>0</td>\n",
       "      <td>0.906</td>\n",
       "      <td>0.511</td>\n",
       "      <td>0.523</td>\n",
       "      <td>1</td>\n",
       "    </tr>\n",
       "  </tbody>\n",
       "</table>\n",
       "</div>"
      ],
      "text/plain": [
       "  competitorname  chocolate  fruity  caramel  peanutyalmondy  nougat  \\\n",
       "0      100 Grand          1       0        1               0       0   \n",
       "1   3 Musketeers          1       0        0               0       1   \n",
       "2       One dime          0       0        0               0       0   \n",
       "3    One quarter          0       0        0               0       0   \n",
       "4      Air Heads          0       1        0               0       0   \n",
       "\n",
       "   crispedricewafer  hard  bar  pluribus  sugarpercent  pricepercent  \\\n",
       "0                 1     0    1         0         0.732         0.860   \n",
       "1                 0     0    1         0         0.604         0.511   \n",
       "2                 0     0    0         0         0.011         0.116   \n",
       "3                 0     0    0         0         0.011         0.511   \n",
       "4                 0     0    0         0         0.906         0.511   \n",
       "\n",
       "   winpercent  Cluster ID  \n",
       "0       0.670           2  \n",
       "1       0.676           2  \n",
       "2       0.323           2  \n",
       "3       0.461           2  \n",
       "4       0.523           1  "
      ]
     },
     "execution_count": 51,
     "metadata": {},
     "output_type": "execute_result"
    }
   ],
   "source": [
    "dfkm4c.rename(columns={0:'Cluster ID'}, inplace=True)\n",
    "dfkm4c.head()"
   ]
  },
  {
   "cell_type": "code",
   "execution_count": 52,
   "id": "64eaa2a6-faaf-4826-a7f0-1825321d6ee7",
   "metadata": {},
   "outputs": [],
   "source": [
    "# creation of data frame with features as principal components for analysis of clusters formed.\n",
    "\n",
    "df_dummy = pd.DataFrame.copy(pd.DataFrame(df_scaled))\n",
    "dfpcakm4c = pd.concat([df_dummy, pd.Series(kmeanModel.labels_)], axis=1)\n",
    "dfpcakm4c.columns = ['PC1', 'PC2', 'Cluster ID']"
   ]
  },
  {
   "cell_type": "code",
   "execution_count": 53,
   "id": "7cd42808-2f8f-4135-a414-57a837eb52b2",
   "metadata": {},
   "outputs": [
    {
     "data": {
      "text/html": [
       "<div>\n",
       "<style scoped>\n",
       "    .dataframe tbody tr th:only-of-type {\n",
       "        vertical-align: middle;\n",
       "    }\n",
       "\n",
       "    .dataframe tbody tr th {\n",
       "        vertical-align: top;\n",
       "    }\n",
       "\n",
       "    .dataframe thead th {\n",
       "        text-align: right;\n",
       "    }\n",
       "</style>\n",
       "<table border=\"1\" class=\"dataframe\">\n",
       "  <thead>\n",
       "    <tr style=\"text-align: right;\">\n",
       "      <th></th>\n",
       "      <th>PC1</th>\n",
       "      <th>PC2</th>\n",
       "      <th>Cluster ID</th>\n",
       "    </tr>\n",
       "  </thead>\n",
       "  <tbody>\n",
       "    <tr>\n",
       "      <th>0</th>\n",
       "      <td>0.920119</td>\n",
       "      <td>-0.638434</td>\n",
       "      <td>2</td>\n",
       "    </tr>\n",
       "    <tr>\n",
       "      <th>1</th>\n",
       "      <td>0.760552</td>\n",
       "      <td>-0.619878</td>\n",
       "      <td>2</td>\n",
       "    </tr>\n",
       "    <tr>\n",
       "      <th>2</th>\n",
       "      <td>0.038601</td>\n",
       "      <td>-0.474069</td>\n",
       "      <td>2</td>\n",
       "    </tr>\n",
       "    <tr>\n",
       "      <th>3</th>\n",
       "      <td>0.087449</td>\n",
       "      <td>-0.417730</td>\n",
       "      <td>2</td>\n",
       "    </tr>\n",
       "    <tr>\n",
       "      <th>4</th>\n",
       "      <td>-0.194699</td>\n",
       "      <td>-1.112814</td>\n",
       "      <td>1</td>\n",
       "    </tr>\n",
       "  </tbody>\n",
       "</table>\n",
       "</div>"
      ],
      "text/plain": [
       "        PC1       PC2  Cluster ID\n",
       "0  0.920119 -0.638434           2\n",
       "1  0.760552 -0.619878           2\n",
       "2  0.038601 -0.474069           2\n",
       "3  0.087449 -0.417730           2\n",
       "4 -0.194699 -1.112814           1"
      ]
     },
     "execution_count": 53,
     "metadata": {},
     "output_type": "execute_result"
    }
   ],
   "source": [
    "dfpcakm4c.head()"
   ]
  },
  {
   "cell_type": "code",
   "execution_count": 54,
   "id": "ed2aa51f-fccb-4d3e-a360-a54c919dace6",
   "metadata": {},
   "outputs": [
    {
     "data": {
      "text/plain": [
       "<seaborn.axisgrid.PairGrid at 0x7f5e3d412640>"
      ]
     },
     "execution_count": 54,
     "metadata": {},
     "output_type": "execute_result"
    },
    {
     "data": {
      "image/png": "[encoded data removed]",
      "text/plain": [
       "<Figure size 417.25x360 with 6 Axes>"
      ]
     },
     "metadata": {
      "needs_background": "light"
     },
     "output_type": "display_data"
    }
   ],
   "source": [
    "sns.pairplot(data = dfpcakm4c, vars=['PC1', 'PC2'], hue='Cluster ID')"
   ]
  },
  {
   "cell_type": "code",
   "execution_count": 55,
   "id": "a2f9d06e-6adc-4036-b32e-0b94cd57d719",
   "metadata": {},
   "outputs": [
    {
     "data": {
      "text/html": [
       "<div>\n",
       "<style scoped>\n",
       "    .dataframe tbody tr th:only-of-type {\n",
       "        vertical-align: middle;\n",
       "    }\n",
       "\n",
       "    .dataframe tbody tr th {\n",
       "        vertical-align: top;\n",
       "    }\n",
       "\n",
       "    .dataframe thead th {\n",
       "        text-align: right;\n",
       "    }\n",
       "</style>\n",
       "<table border=\"1\" class=\"dataframe\">\n",
       "  <thead>\n",
       "    <tr style=\"text-align: right;\">\n",
       "      <th></th>\n",
       "      <th>chocolate</th>\n",
       "      <th>fruity</th>\n",
       "      <th>caramel</th>\n",
       "      <th>peanutyalmondy</th>\n",
       "      <th>nougat</th>\n",
       "      <th>crispedricewafer</th>\n",
       "      <th>hard</th>\n",
       "      <th>bar</th>\n",
       "      <th>pluribus</th>\n",
       "      <th>sugarpercent</th>\n",
       "      <th>pricepercent</th>\n",
       "      <th>winpercent</th>\n",
       "    </tr>\n",
       "    <tr>\n",
       "      <th>Cluster ID</th>\n",
       "      <th></th>\n",
       "      <th></th>\n",
       "      <th></th>\n",
       "      <th></th>\n",
       "      <th></th>\n",
       "      <th></th>\n",
       "      <th></th>\n",
       "      <th></th>\n",
       "      <th></th>\n",
       "      <th></th>\n",
       "      <th></th>\n",
       "      <th></th>\n",
       "    </tr>\n",
       "  </thead>\n",
       "  <tbody>\n",
       "    <tr>\n",
       "      <th>0</th>\n",
       "      <td>0</td>\n",
       "      <td>26</td>\n",
       "      <td>0</td>\n",
       "      <td>0</td>\n",
       "      <td>0</td>\n",
       "      <td>0</td>\n",
       "      <td>8</td>\n",
       "      <td>0</td>\n",
       "      <td>27</td>\n",
       "      <td>13.194</td>\n",
       "      <td>9.381</td>\n",
       "      <td>12.112</td>\n",
       "    </tr>\n",
       "    <tr>\n",
       "      <th>1</th>\n",
       "      <td>1</td>\n",
       "      <td>12</td>\n",
       "      <td>2</td>\n",
       "      <td>0</td>\n",
       "      <td>0</td>\n",
       "      <td>0</td>\n",
       "      <td>7</td>\n",
       "      <td>0</td>\n",
       "      <td>0</td>\n",
       "      <td>5.504</td>\n",
       "      <td>3.599</td>\n",
       "      <td>5.369</td>\n",
       "    </tr>\n",
       "    <tr>\n",
       "      <th>2</th>\n",
       "      <td>24</td>\n",
       "      <td>0</td>\n",
       "      <td>9</td>\n",
       "      <td>10</td>\n",
       "      <td>7</td>\n",
       "      <td>6</td>\n",
       "      <td>0</td>\n",
       "      <td>21</td>\n",
       "      <td>0</td>\n",
       "      <td>13.577</td>\n",
       "      <td>18.289</td>\n",
       "      <td>16.799</td>\n",
       "    </tr>\n",
       "    <tr>\n",
       "      <th>3</th>\n",
       "      <td>12</td>\n",
       "      <td>0</td>\n",
       "      <td>3</td>\n",
       "      <td>4</td>\n",
       "      <td>0</td>\n",
       "      <td>1</td>\n",
       "      <td>0</td>\n",
       "      <td>0</td>\n",
       "      <td>17</td>\n",
       "      <td>8.410</td>\n",
       "      <td>8.586</td>\n",
       "      <td>8.489</td>\n",
       "    </tr>\n",
       "  </tbody>\n",
       "</table>\n",
       "</div>"
      ],
      "text/plain": [
       "            chocolate  fruity  caramel  peanutyalmondy  nougat  \\\n",
       "Cluster ID                                                       \n",
       "0                   0      26        0               0       0   \n",
       "1                   1      12        2               0       0   \n",
       "2                  24       0        9              10       7   \n",
       "3                  12       0        3               4       0   \n",
       "\n",
       "            crispedricewafer  hard  bar  pluribus  sugarpercent  pricepercent  \\\n",
       "Cluster ID                                                                      \n",
       "0                          0     8    0        27        13.194         9.381   \n",
       "1                          0     7    0         0         5.504         3.599   \n",
       "2                          6     0   21         0        13.577        18.289   \n",
       "3                          1     0    0        17         8.410         8.586   \n",
       "\n",
       "            winpercent  \n",
       "Cluster ID              \n",
       "0               12.112  \n",
       "1                5.369  \n",
       "2               16.799  \n",
       "3                8.489  "
      ]
     },
     "execution_count": 55,
     "metadata": {},
     "output_type": "execute_result"
    }
   ],
   "source": [
    "dfkm4c.groupby('Cluster ID').sum()"
   ]
  },
  {
   "cell_type": "markdown",
   "id": "c3fa572f-64e0-4670-ac66-0876757fdd76",
   "metadata": {},
   "source": [
    "* Cluster 1: Box/Pack of fruity candies\n",
    "* Cluster 2: Fruity candies with caramel \n",
    "* Cluster 3: Choco bars with different tasstes\n",
    "* Cluster 4: Box/Pack of choco candies with different tastes"
   ]
  },
  {
   "cell_type": "code",
   "execution_count": 56,
   "id": "3a8b8a38-497e-45bf-94e4-eba677233143",
   "metadata": {},
   "outputs": [
    {
     "data": {
      "text/html": [
       "<div>\n",
       "<style scoped>\n",
       "    .dataframe tbody tr th:only-of-type {\n",
       "        vertical-align: middle;\n",
       "    }\n",
       "\n",
       "    .dataframe tbody tr th {\n",
       "        vertical-align: top;\n",
       "    }\n",
       "\n",
       "    .dataframe thead th {\n",
       "        text-align: right;\n",
       "    }\n",
       "</style>\n",
       "<table border=\"1\" class=\"dataframe\">\n",
       "  <thead>\n",
       "    <tr style=\"text-align: right;\">\n",
       "      <th></th>\n",
       "      <th>average winpercent</th>\n",
       "      <th>average pricepercent</th>\n",
       "      <th>average sugarpercent</th>\n",
       "    </tr>\n",
       "    <tr>\n",
       "      <th>Cluster ID</th>\n",
       "      <th></th>\n",
       "      <th></th>\n",
       "      <th></th>\n",
       "    </tr>\n",
       "  </thead>\n",
       "  <tbody>\n",
       "    <tr>\n",
       "      <th>2</th>\n",
       "      <td>0.599964</td>\n",
       "      <td>0.653179</td>\n",
       "      <td>0.484893</td>\n",
       "    </tr>\n",
       "    <tr>\n",
       "      <th>3</th>\n",
       "      <td>0.499353</td>\n",
       "      <td>0.505059</td>\n",
       "      <td>0.494706</td>\n",
       "    </tr>\n",
       "    <tr>\n",
       "      <th>0</th>\n",
       "      <td>0.448593</td>\n",
       "      <td>0.347444</td>\n",
       "      <td>0.488667</td>\n",
       "    </tr>\n",
       "    <tr>\n",
       "      <th>1</th>\n",
       "      <td>0.413000</td>\n",
       "      <td>0.276846</td>\n",
       "      <td>0.423385</td>\n",
       "    </tr>\n",
       "  </tbody>\n",
       "</table>\n",
       "</div>"
      ],
      "text/plain": [
       "            average winpercent  average pricepercent  average sugarpercent\n",
       "Cluster ID                                                                \n",
       "2                     0.599964              0.653179              0.484893\n",
       "3                     0.499353              0.505059              0.494706\n",
       "0                     0.448593              0.347444              0.488667\n",
       "1                     0.413000              0.276846              0.423385"
      ]
     },
     "execution_count": 56,
     "metadata": {},
     "output_type": "execute_result"
    }
   ],
   "source": [
    "table = dfkm4c.groupby(\"Cluster ID\").agg({\"winpercent\": \"mean\", \"pricepercent\": \"mean\", \"sugarpercent\": \"mean\"}\n",
    "                             ).rename(columns={\"winpercent\" : \"average winpercent\", \n",
    "                                               \"pricepercent\" : \"average pricepercent\", \n",
    "                                               \"sugarpercent\" : \"average sugarpercent\", }\n",
    "                             ).sort_values(\"average winpercent\", ascending = False)\n",
    "table"
   ]
  },
  {
   "cell_type": "code",
   "execution_count": 57,
   "id": "5a9a2e25-e15d-4404-bf15-f32046ddd454",
   "metadata": {},
   "outputs": [
    {
     "data": {
      "text/plain": [
       "Text(0, 0.5, 'Percentage')"
      ]
     },
     "execution_count": 57,
     "metadata": {},
     "output_type": "execute_result"
    },
    {
     "data": {
      "image/png": "[encoded data removed]",
      "text/plain": [
       "<Figure size 720x432 with 1 Axes>"
      ]
     },
     "metadata": {
      "needs_background": "light"
     },
     "output_type": "display_data"
    }
   ],
   "source": [
    "table.plot(kind = \"bar\", rot = 0.90, legend = True, figsize = [10, 6])\n",
    "plt.title(\"Average winpercent, pricepercent, sugarpercent\")\n",
    "plt.xlabel(\"Cluster ID\")\n",
    "plt.ylabel(\"Percentage\")"
   ]
  },
  {
   "cell_type": "markdown",
   "id": "076c9c93-ee34-4246-91c5-8a439890ccab",
   "metadata": {},
   "source": [
    "## Modelling "
   ]
  },
  {
   "cell_type": "code",
   "execution_count": 58,
   "id": "223dc6f4-cad3-4ac0-a31b-88b7ff241cdc",
   "metadata": {},
   "outputs": [],
   "source": [
    "X_train = df.drop(['competitorname', 'winpercent', 'sugarpercent', 'pricepercent'], axis=1)\n",
    "target = df['winpercent']"
   ]
  },
  {
   "cell_type": "code",
   "execution_count": 59,
   "id": "4daaff97-ff43-4708-9afe-4db3f1d7c7a3",
   "metadata": {},
   "outputs": [
    {
     "name": "stdout",
     "output_type": "stream",
     "text": [
      "Took 1.5781044960021973 seconds\n"
     ]
    }
   ],
   "source": [
    "import time\n",
    "#Instantiate the model setting the weights\n",
    "rfr = RandomForestRegressor(random_state=42, n_jobs=-1, bootstrap=True)\n",
    "\n",
    "#Hyperparameters grid to be tuned\n",
    "param_grid = {\n",
    "        'n_estimators': [10, 30],\n",
    "        'max_depth': [2, 5, None], \n",
    "}\n",
    "\n",
    "\n",
    "# we'll use 5-fold cross-validation\n",
    "rf_grid = GridSearchCV(rfr, param_grid, cv=5, \n",
    "                              scoring='neg_mean_squared_error',return_train_score=True, n_jobs=-1)\n",
    "\n",
    "#Fit the model \n",
    "start = time.time()\n",
    "rf_grid.fit(X_train, target)\n",
    "end = time.time() - start\n",
    "print(f\"Took {end} seconds\")"
   ]
  },
  {
   "cell_type": "code",
   "execution_count": 60,
   "id": "fcf8024c-a51b-47f9-b109-20fa68743b77",
   "metadata": {},
   "outputs": [
    {
     "data": {
      "text/plain": [
       "{'max_depth': 5, 'n_estimators': 10}"
      ]
     },
     "execution_count": 60,
     "metadata": {},
     "output_type": "execute_result"
    }
   ],
   "source": [
    "rf_grid.best_params_"
   ]
  },
  {
   "cell_type": "code",
   "execution_count": 61,
   "id": "cc4871e0-a735-4f6d-8834-15de043d47da",
   "metadata": {},
   "outputs": [
    {
     "data": {
      "text/plain": [
       "0.11247295803532953"
      ]
     },
     "execution_count": 61,
     "metadata": {},
     "output_type": "execute_result"
    }
   ],
   "source": [
    "np.sqrt(-rf_grid.best_score_)"
   ]
  },
  {
   "cell_type": "code",
   "execution_count": 62,
   "id": "b74d1c5c-4dbd-4679-82b0-89b95bddd2bf",
   "metadata": {},
   "outputs": [
    {
     "data": {
      "image/png": "[encoded data removed]",
      "text/plain": [
       "<Figure size 864x576 with 1 Axes>"
      ]
     },
     "metadata": {
      "needs_background": "light"
     },
     "output_type": "display_data"
    }
   ],
   "source": [
    "y_pred = rf_grid.predict(X_train)\n",
    "\n",
    "fig, ax = plt.subplots()\n",
    "plt.scatter(x=target, y=y_pred, alpha=1)\n",
    "\n",
    "#Set title and labels for the axis \n",
    "plt.title(\"\") \n",
    "\n",
    "fig.set_size_inches(12, 8)"
   ]
  },
  {
   "cell_type": "code",
   "execution_count": 63,
   "id": "b12c7eea-0e92-4424-a4f1-93d6252ba301",
   "metadata": {},
   "outputs": [
    {
     "data": {
      "text/plain": [
       "RandomForestRegressor(max_depth=5, n_estimators=10, n_jobs=-1, random_state=42)"
      ]
     },
     "execution_count": 63,
     "metadata": {},
     "output_type": "execute_result"
    }
   ],
   "source": [
    "rfr = RandomForestRegressor(n_estimators=10, max_depth=5, random_state=42, n_jobs=-1, bootstrap=True)\n",
    "rfr.fit(X_train, target)"
   ]
  },
  {
   "cell_type": "code",
   "execution_count": 64,
   "id": "325cee84-21b3-4553-8629-66e72565eb39",
   "metadata": {},
   "outputs": [
    {
     "data": {
      "text/plain": [
       "<AxesSubplot:>"
      ]
     },
     "execution_count": 64,
     "metadata": {},
     "output_type": "execute_result"
    },
    {
     "data": {
      "image/png": "[encoded data removed]",
      "text/plain": [
       "<Figure size 432x288 with 1 Axes>"
      ]
     },
     "metadata": {
      "needs_background": "light"
     },
     "output_type": "display_data"
    }
   ],
   "source": [
    "feat_importances = pd.Series(rfr.feature_importances_, index=X_train.columns)\n",
    "feat_importances.nlargest(10).plot(kind='barh')"
   ]
  },
  {
   "cell_type": "code",
   "execution_count": 65,
   "id": "fd008c40-6608-4f7e-aa3f-c6f0696575f1",
   "metadata": {},
   "outputs": [
    {
     "name": "stdout",
     "output_type": "stream",
     "text": [
      "chocolate: 0.5495422956120739\n",
      "peanutyalmondy: 0.12173661367694703\n",
      "bar: 0.081913763648309\n",
      "caramel: 0.0696368233293193\n",
      "pluribus: 0.047780793204208756\n",
      "crispedricewafer: 0.04176577053352297\n",
      "fruity: 0.03938475471161708\n",
      "nougat: 0.027019562261178475\n",
      "hard: 0.021219623022823528\n"
     ]
    }
   ],
   "source": [
    "for k, v in sorted(zip(feat_importances, X_train.columns), reverse=True):\n",
    "    print(f\"{v}: {k}\")"
   ]
  },
  {
   "cell_type": "code",
   "execution_count": null,
   "id": "2253b6b8-1a59-40c6-8cca-5e0d2d4acde1",
   "metadata": {},
   "outputs": [],
   "source": []
  },
  {
   "cell_type": "code",
   "execution_count": null,
   "id": "21b577b5-0861-4c2a-ad3e-aa208edcea2f",
   "metadata": {},
   "outputs": [],
   "source": []
  }
 ],
 "metadata": {
  "kernelspec": {
   "display_name": "Python 3 (ipykernel)",
   "language": "python",
   "name": "python3"
  },
  "language_info": {
   "codemirror_mode": {
    "name": "ipython",
    "version": 3
   },
   "file_extension": ".py",
   "mimetype": "text/x-python",
   "name": "python",
   "nbconvert_exporter": "python",
   "pygments_lexer": "ipython3",
   "version": "3.9.10"
  }
 },
 "nbformat": 4,
 "nbformat_minor": 5
}
